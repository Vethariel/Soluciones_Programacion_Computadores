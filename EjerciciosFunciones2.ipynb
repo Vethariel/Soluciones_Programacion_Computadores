{
  "nbformat": 4,
  "nbformat_minor": 0,
  "metadata": {
    "colab": {
      "provenance": [],
      "collapsed_sections": [],
      "authorship_tag": "ABX9TyPOcsCKm0/eoFb3EKZMfHRH",
      "include_colab_link": true
    },
    "kernelspec": {
      "name": "python3",
      "display_name": "Python 3"
    },
    "language_info": {
      "name": "python"
    }
  },
  "cells": [
    {
      "cell_type": "markdown",
      "metadata": {
        "id": "view-in-github",
        "colab_type": "text"
      },
      "source": [
        "<a href=\"https://colab.research.google.com/github/Vethariel/Soluciones_Programacion_Computadores/blob/main/EjerciciosFunciones2.ipynb\" target=\"_parent\"><img src=\"https://colab.research.google.com/assets/colab-badge.svg\" alt=\"Open In Colab\"/></a>"
      ]
    },
    {
      "cell_type": "markdown",
      "source": [
        "Para cada una de las funciones escribir su planteamiento matemático antes de programarla. Estos planteamientos matemáticos se deben entregar junto las funciones. Para esta tarea pueden utilizar colab, de esta forma podrán escribir el planteamiento matemático antes de desarrollar el punto."
      ],
      "metadata": {
        "id": "hCXasTkv98HO"
      }
    },
    {
      "cell_type": "markdown",
      "source": [
        "1. Escribir una función que recibe una cadena \\<nombre> y muestre por pantalla el saludo ¡Hola \\<nombre>!. \n",
        "---\n",
        "<div> Modelo matemático:\n",
        "\\begin{gather*} \n",
        "saludo:ASCII^{*}\\rightarrow ASCII^{*}\\\\\n",
        "(nombre)\\mapsto \\ \\ \"Hola \" + \\ \\ nombre \\ \\ + \"!\"\n",
        "\\end{gather*}"
      ],
      "metadata": {
        "id": "DK6QqMmw9TP9"
      }
    },
    {
      "cell_type": "code",
      "source": [
        "nombre = input(\"Escribe tu nombre: \")\n",
        "def saludo(nombre):\n",
        "  return \"¡Hola \" + nombre + \"!\"\n",
        "print(saludo(nombre))"
      ],
      "metadata": {
        "id": "QXhiqn_i9T91",
        "colab": {
          "base_uri": "https://localhost:8080/"
        },
        "outputId": "3175ea8b-dc20-4f06-f0a4-3cdb3dd2d390"
      },
      "execution_count": null,
      "outputs": [
        {
          "output_type": "stream",
          "name": "stdout",
          "text": [
            "Escribe tu nombre: Daniel\n",
            "¡Hola Daniel!\n"
          ]
        }
      ]
    },
    {
      "cell_type": "markdown",
      "source": [
        "2. Escribir las funciones correspondiente para el punto 6 de la tarea de variables, tipos de datos y expresiones. Las frases de impresión realizarlas por fuera de la función.\n",
        "---\n",
        "<div> Modelo matemático:\n",
        "\\begin{gather*}\n",
        "sumatoria\\_naturales:\\mathbb{Z}^{+}\\rightarrow \\mathbb{Z}^{+}\\\\\n",
        "(n)\\mapsto \\frac{n(n+1)}{2}\n",
        "\\end{gather*}"
      ],
      "metadata": {
        "id": "_sYf_3JS9Vm1"
      }
    },
    {
      "cell_type": "code",
      "source": [
        "n = int(input(\"Escriba el valor inicial: \"))\n",
        "def sumatoria_naturales (n):\n",
        "  return int((n*(n+1))/2)\n",
        "print(f\"Resultado de la sumatoria: {sumatoria_naturales(n)}\")"
      ],
      "metadata": {
        "id": "bea62Ebq9X5l",
        "colab": {
          "base_uri": "https://localhost:8080/"
        },
        "outputId": "787b4359-419c-4110-c10a-cc42baf9771d"
      },
      "execution_count": null,
      "outputs": [
        {
          "output_type": "stream",
          "name": "stdout",
          "text": [
            "Escriba el valor inicial: 55\n",
            "Resultado de la sumatoria: 1540\n"
          ]
        }
      ]
    },
    {
      "cell_type": "markdown",
      "source": [
        "3. Escribir las funciones correspondiente para el punto 7 de la tarea de variables, tipos de datos y expresiones. Las frases de impresión realizarlas por fuera de la función.\n",
        "---\n",
        "<div> Modelo matemático:\n",
        "\\begin{gather*}\n",
        "calculo\\_imc:\\mathbb{R}\\times \\mathbb{R}\\rightarrow \\mathbb{R}\\\\\n",
        "(kg, mts)\\mapsto \\frac{kg}{mts^{2}}\n",
        "\\end{gather*}"
      ],
      "metadata": {
        "id": "djPqDP8F9Yek"
      }
    },
    {
      "cell_type": "code",
      "source": [
        "kg = float(input(\"Escriba su peso en kg: \"))\n",
        "mts = float(input(\"Escriba su estatura en mts: \"))\n",
        "def calculo_imc(kg,mts):\n",
        "  return kg/mts**2\n",
        "print(f\"Su IMC es: {calculo_imc(kg,mts)}\")"
      ],
      "metadata": {
        "id": "4fpCD_ha9wG2",
        "colab": {
          "base_uri": "https://localhost:8080/"
        },
        "outputId": "21597e74-5c5d-464b-f02c-fee1ac8ef70e"
      },
      "execution_count": null,
      "outputs": [
        {
          "output_type": "stream",
          "name": "stdout",
          "text": [
            "Escriba su peso en kg: 72\n",
            "Escriba su estatura en mts: 1.70\n",
            "Su IMC es: 24.913494809688583\n"
          ]
        }
      ]
    },
    {
      "cell_type": "markdown",
      "source": [
        "4. El número de contagiados de Covid-19 en el país de NuncaLandia se duplica cada día. Hacer un programa que diga el número total de personas que se han contagiado cuando pasen D días a partir de hoy, si el número de contagiados actuales es C.\n",
        "---\n",
        "<div> Modelo matemático:\n",
        "\\begin{gather*}\n",
        "total\\_contagiados:\\mathbb{Z}\\times \\mathbb{Z}\\rightarrow \\mathbb{Z}\\\\\n",
        "(C, D)\\mapsto C\\cdot 2^{D}\n",
        "\\end{gather*}"
      ],
      "metadata": {
        "id": "VW7ZzBZP9wUd"
      }
    },
    {
      "cell_type": "code",
      "source": [
        "C = int(input(\"Escriba el numero de contagiados actuales: \"))\n",
        "D = int(input(\"Escriba el numero de dias que han transcurrido: \"))\n",
        "def total_contagiados(C,D):\n",
        "  return C*2**D\n",
        "print(f\"El total de contagiados es: {total_contagiados(C,D)}\")"
      ],
      "metadata": {
        "id": "-7PaNRr_9yOt",
        "colab": {
          "base_uri": "https://localhost:8080/"
        },
        "outputId": "e945d85c-8151-4251-c79b-573fa70b9911"
      },
      "execution_count": null,
      "outputs": [
        {
          "output_type": "stream",
          "name": "stdout",
          "text": [
            "Escriba el numero de contagiados actuales: 100\n",
            "Escriba el numero de dias que han transcurrido: 5\n",
            "El total de contagiados es: 3200\n"
          ]
        }
      ]
    },
    {
      "cell_type": "markdown",
      "source": [
        "5. Escribir una función que calcule el total de una factura aplicándole el IVA. La función recibe la cantidad sin IVA y el porcentaje de IVA a aplicar, y devuelve el total de la factura. Si se invoca la función sin pasarle el porcentaje de IVA, deberá aplicar un 16 %.\n",
        "---\n",
        "<div> Modelo matemático:\n",
        "\\begin{gather*}\n",
        "calcular\\_iva:\\mathbb{R}\\times \\mathbb{R}\\rightarrow \\mathbb{R}\\\\\n",
        "(factura, iva)\\mapsto factura+\\frac{factura\\cdot iva}{100}\n",
        "\\end{gather*}"
      ],
      "metadata": {
        "id": "htt1EnUp9yi1"
      }
    },
    {
      "cell_type": "code",
      "source": [
        "def calcular_iva(factura,iva=16):\n",
        "  return factura+(factura*iva/100)\n",
        "print(f\"El valor total de la factura es {calcular_iva(500)}\")"
      ],
      "metadata": {
        "id": "gT2prdSv90FF",
        "colab": {
          "base_uri": "https://localhost:8080/"
        },
        "outputId": "b76edbb7-8914-4d2f-8a75-d06ffc4ec959"
      },
      "execution_count": null,
      "outputs": [
        {
          "output_type": "stream",
          "name": "stdout",
          "text": [
            "El valor total de la factura es 580.0\n"
          ]
        }
      ]
    },
    {
      "cell_type": "markdown",
      "source": [
        "6. Mi mamá me manda a comprar P panes a \\\\$ 300 cada uno, M bolsas de leche a \\\\$ 3300 cada una y H huevos a \\\\$ 350 cada uno. Hacer un programa que me diga las vueltas (o lo que quedo debiendo) cuando me da un billete de B pesos.\n",
        "---\n",
        "<div> Modelo matemático:\n",
        "\\begin{gather*}\n",
        "cantidad\\_sobra:\\mathbb{Z}\\times \\mathbb{Z}\\times \\mathbb{Z}\\times \\mathbb{Z}\\rightarrow \\mathbb{Z}\\\\\n",
        "(B, P, M, H)\\mapsto B-300P-3300M-350H\n",
        "\\end{gather*}"
      ],
      "metadata": {
        "id": "mafY_3X890WN"
      }
    },
    {
      "cell_type": "code",
      "source": [
        "B = int(input(\"Escriba el valor del billete: \"))\n",
        "P = int(input(\"Escriba la cantidad de panes: \"))\n",
        "M = int(input(\"Escriba la cantidad de bolsas de leche: \"))\n",
        "H = int(input(\"Escriba la cantidad de huevos: \"))\n",
        "def cantidad_sobra(B,P,M,H):\n",
        "  return B-300*P-3300*M-350*H\n",
        "vueltas = cantidad_sobra(B,P,M,H)\n",
        "if vueltas >=0:\n",
        "  print(f\"Sobraron {vueltas} pesos\")\n",
        "else:\n",
        "  print(f\"Quedo debiendo {vueltas*-1} pesos\")"
      ],
      "metadata": {
        "id": "kojNTi8r92h1",
        "colab": {
          "base_uri": "https://localhost:8080/"
        },
        "outputId": "d228b650-4bf7-45f3-dc0a-8b4b726400dd"
      },
      "execution_count": null,
      "outputs": [
        {
          "output_type": "stream",
          "name": "stdout",
          "text": [
            "Escriba el valor del billete: 50000\n",
            "Escriba la cantidad de panes: 1\n",
            "Escriba la cantidad de bolsas de leche: 1\n",
            "Escriba la cantidad de huevos: 1\n",
            "Sobraron 46050 pesos\n"
          ]
        }
      ]
    },
    {
      "cell_type": "markdown",
      "source": [
        "7. Escribir una función que calcule el área de un círculo, y otra que calcule el volumen de un cilindro usando la primera función. La función del área del circulo recibe el radio, y la función del área del cilindro el radio y la altura.\n",
        "---\n",
        "<div> Modelo matemático:\n",
        "\\begin{gather*}\n",
        "area\\_circulo:\\mathbb{R} \\rightarrow \\mathbb{R}\\\\\n",
        "(r)\\mapsto \\pi r^{2}\\\\\n",
        "volumen\\_cilindro:\\mathbb{R}\\times \\mathbb{R}\\rightarrow \\mathbb{R}\\\\\n",
        "(r,h)\\mapsto area\\_circulo(r) \\cdot h\n",
        "\\end{gather*}"
      ],
      "metadata": {
        "id": "qjb3zHAV92y9"
      }
    },
    {
      "cell_type": "code",
      "source": [
        "from math import pi\n",
        "r = float(input(\"Escriba el radio del circulo: \"))\n",
        "h = float(input(\"Escriba la altura del cilindro: \"))\n",
        "def area_circulo(r):\n",
        "  return pi*r**2\n",
        "def volumen_cilindro(r, h):\n",
        "  return area_circulo(r)*h\n",
        "print(f\"El volumen del cilindro es: {volumen_cilindro(r,h)}\")"
      ],
      "metadata": {
        "id": "n1o3PSNY94OP",
        "colab": {
          "base_uri": "https://localhost:8080/"
        },
        "outputId": "4a35d08f-f23d-4b34-9ad1-64478b361f63"
      },
      "execution_count": null,
      "outputs": [
        {
          "output_type": "stream",
          "name": "stdout",
          "text": [
            "Escriba el radio del circulo: 5\n",
            "Escriba la altura del cilindro: 10\n",
            "El volumen del cilindro es: 785.3981633974483\n"
          ]
        }
      ]
    },
    {
      "cell_type": "markdown",
      "source": [
        "8. Problemas realizados en clase: volumen de solido, área de vagón, área lateral del carro."
      ],
      "metadata": {
        "id": "GZ5FKR3w94ke"
      }
    },
    {
      "cell_type": "markdown",
      "source": [
        "8.1 Volumen solido:\n",
        "---\n",
        "<div> Modelo matemático:\n",
        "\\begin{gather*}\n",
        "volumen\\_esfera:\\mathbb{R}\\rightarrow \\mathbb{R}\\\\\n",
        "(r1)\\mapsto \\frac{{4}}{3}\\cdot \\pi\\cdot r1^{3}\\\\\n",
        "volumen\\_cono:\\mathbb{R}\\times \\mathbb{R}\\rightarrow \\mathbb{R}\\\\\n",
        "(r2,h)\\mapsto \\frac{{2}}{3}\\cdot \\pi\\cdot h \\cdot r2^{2}\\\\\n",
        "volumen\\_total:\\mathbb{R}\\times \\mathbb{R}\\times \\mathbb{R}\\rightarrow \\mathbb{R}\\\\\n",
        "(r1,r2,h)\\mapsto volumen\\_esfera(r1)+volumen\\_cono(r2,h)\n",
        "\\end{gather*}"
      ],
      "metadata": {
        "id": "LnQk7vJGvMci"
      }
    },
    {
      "cell_type": "code",
      "source": [
        "from math import pi\n",
        "r1=float(input(\"radio esfera: \"))\n",
        "r2=float(input(\"radio cono: \"))\n",
        "h=float(input(\"altura cono: \"))\n",
        "def volumen_esfera(r1):\n",
        "  volumenEsfera = 4*pi*r1**3/3\n",
        "  return volumenEsfera\n",
        "def volumen_cono(r2,h):\n",
        "  volumenCono = pi*h*r2**2/3\n",
        "  return  volumenCono\n",
        "def volumen_total(r1,r2,h):\n",
        "  return volumen_esfera(r1) + volumen_cono(r2,h)\n",
        "print(f\"El volumen total es: {volumen_total(r1,r2,h)}\")"
      ],
      "metadata": {
        "id": "AkuPFdA397RV",
        "colab": {
          "base_uri": "https://localhost:8080/"
        },
        "outputId": "09f211dc-7a77-4c6d-f863-ec12db6c7d73"
      },
      "execution_count": null,
      "outputs": [
        {
          "output_type": "stream",
          "name": "stdout",
          "text": [
            "radio esfera: 10\n",
            "radio cono: 10\n",
            "altura cono: 10\n",
            "El volumen total es: 5235.987755982988\n"
          ]
        }
      ]
    },
    {
      "cell_type": "markdown",
      "source": [
        "8.2 Area lateral carro:\n",
        "---\n",
        "<div> Modelo matemático:\n",
        "\\begin{gather*}\n",
        "area\\_rectangulo:\\mathbb{R}\\times \\mathbb{R}\\rightarrow \\mathbb{R}\\\\\n",
        "(a,b)\\mapsto a\\cdot b\\\\\n",
        "area\\_circulo:\\mathbb{R}\\rightarrow \\mathbb{R}\\\\\n",
        "(r)\\mapsto \\pi\\cdot r^{2}\\\\\n",
        "area\\_lateral:\\mathbb{R}\\times \\mathbb{R}\\times \\mathbb{R}\\rightarrow \\mathbb{R}\\\\\n",
        "(a,b,r)\\mapsto area\\_rectangulo(a,b)+area\\_circulo(r) \\cdot 2\n",
        "\\end{gather*}"
      ],
      "metadata": {
        "id": "CwzD0EfnvvfJ"
      }
    },
    {
      "cell_type": "code",
      "source": [
        "from math import pi\n",
        "a=float(input(\"altura rectangulo: \"))\n",
        "b=float(input(\"base rectangulo: \"))\n",
        "r=float(input(\"radio circulo: \"))\n",
        "def area_rectangulo(a,b):\n",
        "  return a*b\n",
        "def area_circulo(r):\n",
        "  return pi*r**2\n",
        "def area_lateral(a,b,r):\n",
        "  return area_rectangulo(a,b) + 2*area_circulo(r)\n",
        "print(f\"Area lateral carro: {area_lateral(a,b,r)}\")"
      ],
      "metadata": {
        "id": "Gd5mqV12vvvB",
        "colab": {
          "base_uri": "https://localhost:8080/"
        },
        "outputId": "a6a5177d-b123-44a2-971d-9c6b48ad4031"
      },
      "execution_count": null,
      "outputs": [
        {
          "output_type": "stream",
          "name": "stdout",
          "text": [
            "altura rectangulo: 10\n",
            "base rectangulo: 10\n",
            "radio circulo: 10\n",
            "Area lateral carro: 728.3185307179587\n"
          ]
        }
      ]
    },
    {
      "cell_type": "markdown",
      "source": [
        "8.3 Area lateral vagon:\n",
        "---\n",
        "<div> Modelo matemático:\n",
        "\\begin{gather*}\n",
        "area\\_rectangulo:\\mathbb{R}\\times \\mathbb{R}\\rightarrow \\mathbb{R}\\\\\n",
        "(a,b)\\mapsto a\\cdot b\\\\\n",
        "area\\_circulo:\\mathbb{R}\\rightarrow \\mathbb{R}\\\\\n",
        "(r)\\mapsto \\pi\\cdot r^{2}\\\\\n",
        "area\\_lateral:\\mathbb{R}\\times \\mathbb{R}\\times \\mathbb{R}\\times \\mathbb{R}\\times \\mathbb{R}\\times\\mathbb{R}\\rightarrow \\mathbb{R}\\\\\n",
        "(a1,b1,a2,b2,r1,r2)\\mapsto area\\_rectangulo(a1,b1)+area\\_rectangulo(a2,b2)+area\\_circulo(r1)+area\\_circulo(r2)\n",
        "\\end{gather*}"
      ],
      "metadata": {
        "id": "b-1Uh1E0w3fq"
      }
    },
    {
      "cell_type": "code",
      "source": [
        "from math import pi\n",
        "a1=float(input(\"altura rectangulo 1: \"))\n",
        "b1=float(input(\"base rectangulo 1: \"))\n",
        "a2=float(input(\"altura rectangulo 2: \"))\n",
        "b2=float(input(\"base rectangulo 2: \"))\n",
        "r1=float(input(\"radio circulo 1: \"))\n",
        "r2=float(input(\"radio circulo 2: \"))\n",
        "def area_rectangulo(a,b):\n",
        "  return a*b\n",
        "def area_circulo(r):\n",
        "  return pi*r**2\n",
        "def area_lateral(a1,b1,a2,b2,r1,r2):\n",
        "  return area_rectangulo(a1,b2)+area_rectangulo(a2,b2) + area_circulo(r1)+ area_circulo(r2)\n",
        "print(f\"Area lateral: {area_lateral(a1,b1,a2,b2,r1,r2)}\")"
      ],
      "metadata": {
        "colab": {
          "base_uri": "https://localhost:8080/"
        },
        "id": "gRRrUZnuw4AZ",
        "outputId": "fd64cb14-7e46-4a0c-b7b4-e48348df7187"
      },
      "execution_count": null,
      "outputs": [
        {
          "output_type": "stream",
          "name": "stdout",
          "text": [
            "altura rectangulo 1: 10\n",
            "base rectangulo 1: 10\n",
            "altura rectangulo 2: 20\n",
            "base rectangulo 2: 20\n",
            "radio circulo 1: 10\n",
            "radio circulo 2: 20\n",
            "Area lateral: 2170.7963267948967\n"
          ]
        }
      ]
    }
  ]
}