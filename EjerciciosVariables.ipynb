{
  "nbformat": 4,
  "nbformat_minor": 0,
  "metadata": {
    "colab": {
      "provenance": [],
      "authorship_tag": "ABX9TyN0B9AfYwss7zTgfheNHXnm",
      "include_colab_link": true
    },
    "kernelspec": {
      "name": "python3",
      "display_name": "Python 3"
    },
    "language_info": {
      "name": "python"
    }
  },
  "cells": [
    {
      "cell_type": "markdown",
      "metadata": {
        "id": "view-in-github",
        "colab_type": "text"
      },
      "source": [
        "<a href=\"https://colab.research.google.com/github/Vethariel/Soluciones_Programacion_Computadores/blob/main/EjerciciosVariables.ipynb\" target=\"_parent\"><img src=\"https://colab.research.google.com/assets/colab-badge.svg\" alt=\"Open In Colab\"/></a>"
      ]
    },
    {
      "cell_type": "markdown",
      "source": [
        "Problemas de Variables, Tipos de Datos, Expresiones"
      ],
      "metadata": {
        "id": "6JpLIz8ONggx"
      }
    },
    {
      "cell_type": "markdown",
      "source": [
        "1. Escribir un programa que muestre por pantalla el resultado de la siguiente operación aritmética \n",
        "\\begin{equation} \\left (\\frac{4+2}{4*3}\\right )^{2} \\end{equation}"
      ],
      "metadata": {
        "id": "9p8FQTVCK4Zd"
      }
    },
    {
      "cell_type": "code",
      "source": [
        "rta = ((4+2)/(4*3))**2\n",
        "print(f\"Resultado de la operacion: {rta}\" )"
      ],
      "metadata": {
        "colab": {
          "base_uri": "https://localhost:8080/"
        },
        "id": "-C2-kAL7L29m",
        "outputId": "e9fd2ea8-c9d2-4817-8ee0-553a64c4e6e6"
      },
      "execution_count": null,
      "outputs": [
        {
          "output_type": "stream",
          "name": "stdout",
          "text": [
            "Resultado de la operacion: 0.25\n"
          ]
        }
      ]
    },
    {
      "cell_type": "markdown",
      "source": [
        "2. Escribir un programa que calcule el tiempo para viajar 192 km a una velocidad de 80 km/h"
      ],
      "metadata": {
        "id": "Piritf1CL4Wq"
      }
    },
    {
      "cell_type": "code",
      "source": [
        "tiempo = 192/80\n",
        "print(f\"Tarda en viajar {tiempo} horas\")\n",
        "tiempo *= 60\n",
        "print(f\"Tarda en viajar {tiempo} minutos\")"
      ],
      "metadata": {
        "colab": {
          "base_uri": "https://localhost:8080/"
        },
        "id": "o09ni_nuL6k5",
        "outputId": "df0c33ad-f8eb-4e70-a063-bbc9d3073a8c"
      },
      "execution_count": null,
      "outputs": [
        {
          "output_type": "stream",
          "name": "stdout",
          "text": [
            "Tarda en viajar 2.4 horas\n",
            "Tarda en viajar 144.0 minutos\n"
          ]
        }
      ]
    },
    {
      "cell_type": "markdown",
      "source": [
        "3. Escribir un programa que calcule el área de una esfera. El valor del radio es un real y se recibe\n",
        "por pantalla. Utilizar el valor de π con 10 decimales."
      ],
      "metadata": {
        "id": "0cyfN31eL7Vw"
      }
    },
    {
      "cell_type": "code",
      "source": [
        "radio = float(input(\"Inserte el radio: \"))\n",
        "pi = 3.1415926536\n",
        "areaEsfera = 4*pi*radio**2\n",
        "print(f\"El area de la esfera es {areaEsfera}\")"
      ],
      "metadata": {
        "colab": {
          "base_uri": "https://localhost:8080/"
        },
        "id": "xVLMQsy4L-O5",
        "outputId": "4a2b2e92-8c12-4b73-894f-3567b9833b38"
      },
      "execution_count": null,
      "outputs": [
        {
          "output_type": "stream",
          "name": "stdout",
          "text": [
            "Inserte el radio: 10\n",
            "El area de la esfera es 1256.63706144\n"
          ]
        }
      ]
    },
    {
      "cell_type": "markdown",
      "source": [
        "4. Si en la UN están podando árboles y cada rama tiene P hojas, y a cada árbol le quitaron K ramas, Escribir un programa que calcule cuántos árboles se deben podar para obtener T hojas.\n",
        "Los valores de P, K y T son enteros."
      ],
      "metadata": {
        "id": "QkPg_UWPL-p5"
      }
    },
    {
      "cell_type": "code",
      "source": [
        "hojas = int(input(\"Escriba la cantidad de hojas en total: \"))\n",
        "hojasPorRama = int(input(\"Escriba la cantidad de hojas por rama: \"))\n",
        "ramasPorArbol = int(input(\"Escriba la cantidad de ramas por arbol: \"))\n",
        "arbolesPodados = (hojas//hojasPorRama)//ramasPorArbol\n",
        "print(f\"{arbolesPodados} arboles se deben podar para obtener {hojas} hojas\")"
      ],
      "metadata": {
        "colab": {
          "base_uri": "https://localhost:8080/"
        },
        "id": "4y_U32UTMPuD",
        "outputId": "c9f67b2d-8f46-491e-9d36-d052fb723540"
      },
      "execution_count": null,
      "outputs": [
        {
          "output_type": "stream",
          "name": "stdout",
          "text": [
            "Escriba la cantidad de hojas en total: 100\n",
            "Escriba la cantidad de hojas por rama: 1\n",
            "Escriba la cantidad de ramas por arbol: 3\n",
            "33 arboles se deben podar para obtener 100 hojas\n"
          ]
        }
      ]
    },
    {
      "cell_type": "markdown",
      "source": [
        "5. Un granjero tiene cincuenta animales entre conejos y gallinas. Si la cantidad de patas de los animales es ciento cuarenta. Escribir un programa que calcule cuántos conejos y cuántas gallinas tiene el granjero, pidiendo el número de patas de los animales por pantalla. Probar con 110, 120,\n",
        "140, y 150 patas."
      ],
      "metadata": {
        "id": "PwEMHXFaMQME"
      }
    },
    {
      "cell_type": "code",
      "source": [
        "def numConejosGallinas (patas):\n",
        "  c = (patas-100)//2\n",
        "  g = 50-c\n",
        "  print(f\"Con {patas} patas el granjero tiene {c} conejos y {g} gallinas\")\n",
        "\n",
        "numConejosGallinas(110)\n",
        "numConejosGallinas(120)\n",
        "numConejosGallinas(140)\n",
        "numConejosGallinas(150)"
      ],
      "metadata": {
        "colab": {
          "base_uri": "https://localhost:8080/"
        },
        "id": "cq71JdjIMYPY",
        "outputId": "bc7d83f9-81ae-4f35-8225-4307d31eaece"
      },
      "execution_count": null,
      "outputs": [
        {
          "output_type": "stream",
          "name": "stdout",
          "text": [
            "Con 110 patas el granjero tiene 5 conejos y 45 gallinas\n",
            "Con 120 patas el granjero tiene 10 conejos y 40 gallinas\n",
            "Con 140 patas el granjero tiene 20 conejos y 30 gallinas\n",
            "Con 150 patas el granjero tiene 25 conejos y 25 gallinas\n"
          ]
        }
      ]
    },
    {
      "cell_type": "markdown",
      "source": [
        "6. Escribir un programa que lea un entero positivo n, ingresado por pantalla, y después muestre la\n",
        "suma de los enteros positivos desde 1 hasta n. La suma de los n primeros enteros positivos puede ser calculada con la ecuación de suma de series aritméticas (averiguar quien fue Carl Friedrich Gauss): \\begin{equation} suma= \\frac{n(n+1)}{2} \\end{equation}\n",
        "\n",
        "Carl Friedrich Gauss (1777-1855):\n",
        "- Matemático, físico y astrónomo alemán\n",
        "- Obra mas importante: Las Disquisiciones aritméticas\n",
        "- Profesor de astronomía en el Observatorio de Gotinga\n",
        "- Se reconoció que era el matemático más grande de los siglos XVIII y XIX"
      ],
      "metadata": {
        "id": "lphNURaeMZXp"
      }
    },
    {
      "cell_type": "code",
      "source": [
        "numeroEntero = int(input(\"Escriba un numero: \"))\n",
        "sumatoria = (numeroEntero*(numeroEntero+1))//2\n",
        "print(f\"Resultado de la sumatoria: {sumatoria}\")"
      ],
      "metadata": {
        "colab": {
          "base_uri": "https://localhost:8080/"
        },
        "id": "nTo1pQ88MhPF",
        "outputId": "f7539112-20eb-4ee5-bff8-d07cd0d88509"
      },
      "execution_count": null,
      "outputs": [
        {
          "output_type": "stream",
          "name": "stdout",
          "text": [
            "Escriba un numero: 523\n",
            "Resultado de la sumatoria: 137026\n"
          ]
        }
      ]
    },
    {
      "cell_type": "markdown",
      "source": [
        "7. Escribir un programa que pida al usuario su peso (kg) y estatura (metros), calcule el índice de masa corporal, asigne el valor del índice a una variable, e imprima la frase \"Tu índice de masa corporal es [imc]\", donde [imc] es el índice de masa corporal calculado redondeado con dos decimales."
      ],
      "metadata": {
        "id": "td7dODv_Mhzm"
      }
    },
    {
      "cell_type": "code",
      "source": [
        "peso = float(input(\"Escriba su peso (kg): \"))\n",
        "estatura = float(input(\"Escriba su estatura (mts): \"))\n",
        "imc = peso/(estatura*estatura)\n",
        "print(f\"Tu índice de masa corporal es: {round(imc, 2)}\")"
      ],
      "metadata": {
        "colab": {
          "base_uri": "https://localhost:8080/"
        },
        "id": "mcYqb0h-Munt",
        "outputId": "aaf2ea6e-211d-4731-b3d4-7b50377373b7"
      },
      "execution_count": null,
      "outputs": [
        {
          "output_type": "stream",
          "name": "stdout",
          "text": [
            "Escriba su peso (kg): 80\n",
            "Escriba su estatura (mts): 1.90\n",
            "Tu índice de masa corporal es: 22.16\n"
          ]
        }
      ]
    },
    {
      "cell_type": "markdown",
      "source": [
        "8. Se acaba de crear un banco llamado ”Nuevo Banco”, que ofrece CDTs al 5.3 % de interés anual.\n",
        "Los intereses se cobran después de un año y se añaden al saldo del CDT. Escribir un programa que lea por pantalla el valor inicial del CDT, calcule y muestre en pantalla el valor del CDT después del primer, segundo y tercer año."
      ],
      "metadata": {
        "id": "Grlcq47SMvJV"
      }
    },
    {
      "cell_type": "code",
      "source": [
        "inicialCDT = int(input(\"Ingrese el valor del CDT: \"))\n",
        "interesAnual = 5.3/100\n",
        "primerAnno = inicialCDT + interesAnual*inicialCDT\n",
        "segundoAnno = primerAnno + interesAnual*primerAnno\n",
        "tercerAnno = segundoAnno + interesAnual*segundoAnno\n",
        "print(f\"CDT primer año: {primerAnno} \\nCDT segundo año: {segundoAnno} \\nCDT tercer año: {tercerAnno}\")"
      ],
      "metadata": {
        "colab": {
          "base_uri": "https://localhost:8080/"
        },
        "id": "LAihWCUsM9H8",
        "outputId": "50384e79-8a73-406f-ebde-04f87e85ab58"
      },
      "execution_count": null,
      "outputs": [
        {
          "output_type": "stream",
          "name": "stdout",
          "text": [
            "Ingrese el valor del CDT: 100\n",
            "CDT primer año: 105.3 \n",
            "CDT segundo año: 110.8809 \n",
            "CDT tercer año: 116.7575877\n"
          ]
        }
      ]
    },
    {
      "cell_type": "markdown",
      "source": [
        "9. Modificar el programa del discurso político realizado anteriormente para que imprima tres frases\n",
        "separadas por tabulador (\\t), la segunda frase entre comillas dobles y luego otra frase en una nueva línea (* Usar solo un print)."
      ],
      "metadata": {
        "id": "FtcNxYe5M91l"
      }
    },
    {
      "cell_type": "code",
      "source": [
        "import random\n",
        "\n",
        "lambetazo = [\"Queridos\", \"Apreciados\", \"Distinguidos\", \"Honorables\", \n",
        "             \"Estimados\", \"Respetados\"]\n",
        "pot_marranos = [\"compatriotas\", \"conciudadanos\", \"amigos\", \"coterraneos\", \n",
        "                \"copartidarios\", \"electores\"]\n",
        "condicion = [\"en mi gobierno\", \"con su apoyo\", \"siendo elegido\", \n",
        "             \"con su ayuda\", \"si me siguen\", \"durante mi mandato\"]\n",
        "compromiso = [\"voy a derrotar\", \"vencere\", \"eliminare\", \"acabare\", \n",
        "              \"luchare contra\", \"combatire\"]\n",
        "ilu_guerrerista = [\"la violencia y\", \"la delicuencia y\", \"la corrupcion y\", \n",
        "                   \"la inflacion y\", \"la pobreza y\", \"el desplazamiento y\"]\n",
        "promesa = [\"trabajare por\", \"garantizare\", \"protegere\", \"velare por\", \n",
        "           \"promovere\", \"defendere\"]\n",
        "ben_populista = [\"la educacion\", \"el empleo\", \"la seguridad\", \"la paz\", \n",
        "                 \"la igualdad\", \"la salud\"]\n",
        "cant_votos = [\"del pais\", \"de la ciudad\", \"de la comunidad\", \"de la poblacion\", \n",
        "              \"para toda la gente\", \"de cada colombiano\"]\n",
        "\n",
        "listas = [lambetazo,pot_marranos,condicion,compromiso,ilu_guerrerista,promesa,\n",
        "          ben_populista,cant_votos]\n",
        "\n",
        "def elegirAleatorio(lista):\n",
        "  return random.choice(lista)\n",
        "\n",
        "def crearFrase(listas):\n",
        "  frase = \"\"\n",
        "  for lista in listas:\n",
        "    frase += \" \" + elegirAleatorio(lista)\n",
        "  return frase\n",
        "\n",
        "frase1 = crearFrase(listas)\n",
        "frase2 = crearFrase(listas)\n",
        "frase3 = crearFrase(listas)\n",
        "\n",
        "print(f\"Discurso politico1:{frase1}\\tDiscurso politico2:\\\"{frase2}\\\"\\n\\tDiscurso politico3:{frase3}\")"
      ],
      "metadata": {
        "colab": {
          "base_uri": "https://localhost:8080/"
        },
        "id": "ZcCGR_TuNEHQ",
        "outputId": "669cc6b5-3fbd-4d64-c18f-0bc6e5350aee"
      },
      "execution_count": null,
      "outputs": [
        {
          "output_type": "stream",
          "name": "stdout",
          "text": [
            "Discurso politico1: Distinguidos copartidarios durante mi mandato eliminare la violencia y velare por la paz para toda la gente\tDiscurso politico2:\" Honorables amigos en mi gobierno eliminare la inflacion y protegere la seguridad de la poblacion\"\n",
            "\tDiscurso politico3: Honorables conciudadanos con su ayuda luchare contra la violencia y garantizare el empleo del pais\n"
          ]
        }
      ]
    },
    {
      "cell_type": "markdown",
      "source": [
        "10. Calcular las siguientes expresiones:\n",
        "\n",
        "a) 3 ∗ ∗2 ∗ 5 − −4.0 + 2 ∗ ∗4//3 %3\n",
        "- 9*5--4.0+16//3%3\n",
        "- 45--4.0+5%3\n",
        "- 45--4.0+2\n",
        "- 45+4.0+2\n",
        "- 51.0\n",
        "\n",
        "b) (−4 + 8 %3 ∗ 4)//2 + 7\n",
        "- (-4+2*4)//2+7\n",
        "- (-4+8)//2+7\n",
        "- 4//2+7\n",
        "- 2+7\n",
        "- 9"
      ],
      "metadata": {
        "id": "oxsHyAjSNEfR"
      }
    },
    {
      "cell_type": "code",
      "source": [
        "resultado10 = 3**2*5--4.0+2**4//3%3\n",
        "print(f\"Resultado 10 a: {resultado10}\")\n",
        "resultado10 = (-4+8%3*4)//2+7\n",
        "print(f\"Resultado 10 b: {resultado10}\")"
      ],
      "metadata": {
        "colab": {
          "base_uri": "https://localhost:8080/"
        },
        "id": "jTifNkoyNOzf",
        "outputId": "12d8f362-7e96-4398-d5bf-09cc2af65ef7"
      },
      "execution_count": null,
      "outputs": [
        {
          "output_type": "stream",
          "name": "stdout",
          "text": [
            "Resultado 10 a: 51.0\n",
            "Resultado 10 b: 9\n"
          ]
        }
      ]
    },
    {
      "cell_type": "markdown",
      "source": [
        "11. Pepito tiene X dinero y desea comprar dos manzanas y una pera, y además desea dejar 1000 pesos para comprar un regalo a su mamá. Escribir un programa que dado el valor de X (X debe ser mayor a 1000), el precio de las manzanas y las peras, responda True si puede comprar las frutas o false si el dinero no le alcanza."
      ],
      "metadata": {
        "id": "bAACzzyENOaO"
      }
    },
    {
      "cell_type": "code",
      "source": [
        "dinero = float(input(\"Escriba el dinero de Pepito: \"))\n",
        "valorPera = float(input(\"Escriba el valor de la pera: \"))\n",
        "valorManzana = float(input(\"Escriba el valor de la manzana: \"))\n",
        "print(dinero-valorPera-valorManzana*2-1000>=0)\n",
        "print(\"Si le alcanza el dinero\" if dinero-valorPera-valorManzana*2-1000>=0 else \"No le alcanza el dinero\")"
      ],
      "metadata": {
        "colab": {
          "base_uri": "https://localhost:8080/"
        },
        "id": "Dfg79AbZNTix",
        "outputId": "e07370b9-da4b-4e2e-ae2c-ff74c91bb526"
      },
      "execution_count": null,
      "outputs": [
        {
          "output_type": "stream",
          "name": "stdout",
          "text": [
            "Escriba el dinero de Pepito: 100\n",
            "Escriba el valor de la pera: 1\n",
            "Escriba el valor de la manzana: 2\n",
            "False\n",
            "No alcanza el dinero\n"
          ]
        }
      ]
    },
    {
      "cell_type": "markdown",
      "source": [
        "12. Dados los dos segmentos de líneas: (0,5] y (3,8). Escribir un programa que recibe un punto (x,y) y devuelve True si el punto se encuentra en la intersección de los dos segmentos, o false en caso contrario."
      ],
      "metadata": {
        "id": "3aumbkwoNVC5"
      }
    },
    {
      "cell_type": "code",
      "source": [
        "x = int(input(\"x: \"))\n",
        "print((x>0 and x<=5)and(x>3 and x<8))"
      ],
      "metadata": {
        "id": "s_CZl1M_NboF",
        "colab": {
          "base_uri": "https://localhost:8080/"
        },
        "outputId": "1d6dd0d3-058f-44db-fc51-46e4645dbdbb"
      },
      "execution_count": null,
      "outputs": [
        {
          "output_type": "stream",
          "name": "stdout",
          "text": [
            "x: 2\n",
            "False\n"
          ]
        }
      ]
    },
    {
      "cell_type": "markdown",
      "source": [
        "13. Escribir un programa que lea dos cadenas de caracteres y devuelva True si son diferentes."
      ],
      "metadata": {
        "id": "0AQS7fYxNb91"
      }
    },
    {
      "cell_type": "code",
      "source": [
        "cadena1 = input(\"Escriba la primera cadena: \")\n",
        "cadena2 = input(\"Escriba la segunda cadena: \")\n",
        "print(cadena1!=cadena2)"
      ],
      "metadata": {
        "colab": {
          "base_uri": "https://localhost:8080/"
        },
        "id": "aau2gmubNd8O",
        "outputId": "5ff89bf8-1176-410a-8a1c-684cab48583b"
      },
      "execution_count": null,
      "outputs": [
        {
          "output_type": "stream",
          "name": "stdout",
          "text": [
            "Escriba la primera cadena: h\n",
            "Escriba la segunda cadena: h\n",
            "False\n"
          ]
        }
      ]
    }
  ]
}