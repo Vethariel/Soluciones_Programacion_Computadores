{
  "nbformat": 4,
  "nbformat_minor": 0,
  "metadata": {
    "colab": {
      "provenance": [],
      "include_colab_link": true
    },
    "kernelspec": {
      "name": "python3",
      "display_name": "Python 3"
    },
    "language_info": {
      "name": "python"
    }
  },
  "cells": [
    {
      "cell_type": "markdown",
      "metadata": {
        "id": "view-in-github",
        "colab_type": "text"
      },
      "source": [
        "<a href=\"https://colab.research.google.com/github/Vethariel/Soluciones_Programacion_Computadores/blob/main/Parcial1.ipynb\" target=\"_parent\"><img src=\"https://colab.research.google.com/assets/colab-badge.svg\" alt=\"Open In Colab\"/></a>"
      ]
    },
    {
      "cell_type": "markdown",
      "source": [
        "# Programación de Computadores\n",
        "\n",
        "Daniel Alonso Gracia Pinto\n",
        "\n",
        "Parcial 1\n",
        "\n",
        "Ing. Elizabeth León Guzmán"
      ],
      "metadata": {
        "id": "3lpVsNGi6tp8"
      }
    },
    {
      "cell_type": "markdown",
      "source": [
        "1. Granja: En una granja hay A aves. Si 1/3 de las aves son gallinas, y la mitad de las gallinas ponen 1 huevo cada 3 días y la otra mitad 1 huevo cada 5 días. Escribir una función que reciba el número de aves y el número de meses, y retorne cuántos huevos producen en ese número de meses (Probar con 80, 90 y 100 aves; y con 1,2 y 3 meses) (1 mes = 30 días). (Ayuda: El numero de huevos debe ser un entero positivo.)\n",
        "---\n",
        "<div> Modelo matemático:\n",
        "\\begin{gather*}\n",
        "huevosTotal:\\mathbb{Z}^{+}\\times\\mathbb{Z}^{+}\\rightarrow \\mathbb{Z}^{+}\\\\\n",
        "(numeroAves, numeroMeses)\\mapsto \\frac{numeroAves}{6}\\cdot(\\frac{30\\cdot numeroMeses}{5}+\\frac{30\\cdot numeroMeses}{3})\n",
        "\\end{gather*}"
      ],
      "metadata": {
        "id": "iVEgp-W564KS"
      }
    },
    {
      "cell_type": "code",
      "execution_count": null,
      "metadata": {
        "colab": {
          "base_uri": "https://localhost:8080/"
        },
        "id": "hCpYRhqm6qw7",
        "outputId": "d47db75c-19d5-4ac9-b617-13d5d66662dd"
      },
      "outputs": [
        {
          "output_type": "stream",
          "name": "stdout",
          "text": [
            "El numero de huevos que se producen en 1 meses es: 208 huevos\n",
            "El numero de huevos que se producen en 2 meses es: 480 huevos\n",
            "El numero de huevos que se producen en 3 meses es: 768 huevos\n"
          ]
        }
      ],
      "source": [
        "def huevosTotal(numeroAves, numeroMeses):\n",
        "  huevos = numeroAves//6*(30*numeroMeses//5+30*numeroMeses//3)\n",
        "  return f\"El numero de huevos que se producen en {numeroMeses} meses es: {huevos} huevos\"\n",
        "print(huevosTotal(80,1))\n",
        "print(huevosTotal(90,2))\n",
        "print(huevosTotal(100,3))"
      ]
    },
    {
      "cell_type": "markdown",
      "source": [
        "2. Múltiplo: Implementar una función que determine si un número es múltiplo de la suma de otros dos números.\n",
        "---\n",
        "<div> Modelo matemático:\n",
        "\\begin{gather*}\n",
        "multiplo:\\mathbb{Z}^{+}\\times\\mathbb{Z}^{+}\\times\\mathbb{Z}^{+}\\rightarrow bool\\\\\n",
        "(m,n1,n2)\n",
        "\\begin{cases}\n",
        "True & \\text{ si } (n1+n2)\\%m=0 \\\\ \n",
        "False & \\text{ si } (n1+n2)\\%m\\neq0  \n",
        "\\end{cases}\n",
        "\\end{gather*}"
      ],
      "metadata": {
        "id": "HSJftgJD8yrA"
      }
    },
    {
      "cell_type": "code",
      "source": [
        "def multiplo(m,n1,n2):\n",
        "  return f\"{m} es multiplo de la suma de {n1} y {n2}\" if (n1+n2)%m==0 else f\"{m} no es multiplo de la suma de {n1} y {n2}\"\n",
        "print(multiplo(30,3,2))"
      ],
      "metadata": {
        "colab": {
          "base_uri": "https://localhost:8080/"
        },
        "id": "FBD8qIIL8z1A",
        "outputId": "e8e58642-e9c6-4f87-f1fc-9a6f0f511adc"
      },
      "execution_count": null,
      "outputs": [
        {
          "output_type": "stream",
          "name": "stdout",
          "text": [
            "30 no es multiplo de la suma de 3 y 2\n"
          ]
        }
      ]
    },
    {
      "cell_type": "markdown",
      "source": [
        "3. Area cuadrado del círculo: Ímplementar una función que dado el radio de un círculo y la opción de cadena de 1 caracter (”d”: inscrito o ”f”:circunscrito), calcule el área del cuadrado adentro (inscrito en un círculo) o afuera (circunscrito al círculo). (Ayuda: Si necesita calcular la raiz cuadrada puede usar “from math import sqrt”)\n",
        "---\n",
        "<div> Modelo matemático:\n",
        "\\begin{gather*}\n",
        "areaCuadradoCirculo:\\mathbb{R}\\times ASCII^{*}\\rightarrow \\mathbb{R}\\\\\n",
        "(r,opc)\\mapsto \\begin{cases}\n",
        " \\frac{(2r)^{2}}{2}& \\text{ si } opc=``d\" \\\\ \n",
        " (2r)^{2}& \\text{ si } opc=``f\" \n",
        "\\end{cases}\n",
        "\\end{gather*}"
      ],
      "metadata": {
        "id": "Y_dKNe7M9PlI"
      }
    },
    {
      "cell_type": "code",
      "source": [
        "def areaCuadradoCirculo(r,opc):\n",
        "  if opc == \"d\":\n",
        "    area=((r*2)**2)/2\n",
        "  elif opc == \"f\":\n",
        "    area=(r*2)**2\n",
        "  return f\"El area del cuadrado es {area}\"\n",
        "print(areaCuadradoCirculo(3,\"d\"))\n",
        "print(areaCuadradoCirculo(3,\"f\"))"
      ],
      "metadata": {
        "colab": {
          "base_uri": "https://localhost:8080/"
        },
        "id": "PH2FZ3QO9Uof",
        "outputId": "8b743596-c9de-4d2d-b415-d2e97ed91a15"
      },
      "execution_count": null,
      "outputs": [
        {
          "output_type": "stream",
          "name": "stdout",
          "text": [
            "El area del cuadrado es 18.0\n",
            "El area del cuadrado es 36\n"
          ]
        }
      ]
    },
    {
      "cell_type": "markdown",
      "source": [
        "4. Principal: Escribir una función “principal” que imprima tres opciones (1,2,3) para que el usuario escoja cual de las funciones previamente implementadas desea usar. Las opciones son:\n",
        "\n",
        "1 → Granja\\\n",
        "2 → Múltiplo\\\n",
        "3 → Area cuadrado del círculo\\\n",
        "Según la opción escogida por el usuario, el programa debe pedir al usuario los argumentos/parámetros que necesita la función a usar, realizar el llamado de la función, e imprimir la respuesta.\n",
        "\n",
        "Adicionalmente, se debe realizar el llamado a esta última función para que inicie el programa."
      ],
      "metadata": {
        "id": "HUSK4FDF_g3M"
      }
    },
    {
      "cell_type": "code",
      "source": [
        "def principal():\n",
        "  opcion=int(input(\"Elija una de las siguientes opciones:\\n1. Granja\\n2. Multiplo\\n3. Area del cuadrado del circulo\\n\"))\n",
        "  if opcion==1:\n",
        "    numeroAves = int(input(\"Escriba el numero de aves: \"))\n",
        "    numeroMeses = int(input(\"Escriba el numero de meses: \"))\n",
        "    print(huevosTotal(numeroAves,numeroMeses))\n",
        "  elif opcion==2:\n",
        "    n1 = int(input(\"Escriba el primero numero de la suma: \"))\n",
        "    n2 = int(input(\"Escriba el segundo numero de la suma: \"))\n",
        "    m = int(input(\"Escriba el numero multiplo: \"))\n",
        "    print(multiplo(m,n1,n2))\n",
        "  elif opcion==3:\n",
        "    r = float(input(\"Escriba el radio del circulo: \"))\n",
        "    opc= input(\"Escriba la opcion a utilizar:\\nd - Cuadrado inscrito\\nf - Cuadrado circunscrito\\n\")\n",
        "    print(areaCuadradoCirculo(r,opc))\n",
        "principal()"
      ],
      "metadata": {
        "colab": {
          "base_uri": "https://localhost:8080/"
        },
        "id": "4_6-xQPW_qlu",
        "outputId": "f6cb5a90-1e8f-4ad9-c91d-88a12d94e24c"
      },
      "execution_count": null,
      "outputs": [
        {
          "output_type": "stream",
          "name": "stdout",
          "text": [
            "Elija una de las siguientes opciones:\n",
            "1. Granja\n",
            "2. Multiplo\n",
            "3. Area del cuadrado del circulo\n",
            "1\n",
            "Escriba el numero de aves: 6\n",
            "Escriba el numero de meses: 1\n",
            "El numero de huevos que se producen en 1 meses es: 16 huevos\n"
          ]
        }
      ]
    }
  ]
}