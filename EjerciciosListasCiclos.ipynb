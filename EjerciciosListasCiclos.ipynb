{
  "nbformat": 4,
  "nbformat_minor": 0,
  "metadata": {
    "colab": {
      "provenance": [],
      "authorship_tag": "ABX9TyNm+tGzY350hLZ+zIzK24Yr",
      "include_colab_link": true
    },
    "kernelspec": {
      "name": "python3",
      "display_name": "Python 3"
    },
    "language_info": {
      "name": "python"
    }
  },
  "cells": [
    {
      "cell_type": "markdown",
      "metadata": {
        "id": "view-in-github",
        "colab_type": "text"
      },
      "source": [
        "<a href=\"https://colab.research.google.com/github/Vethariel/Soluciones_Programacion_Computadores/blob/main/EjerciciosListasCiclos.ipynb\" target=\"_parent\"><img src=\"https://colab.research.google.com/assets/colab-badge.svg\" alt=\"Open In Colab\"/></a>"
      ]
    },
    {
      "cell_type": "markdown",
      "source": [
        "Desarrollar un programa que determine si en una lista no existen\n",
        "elementos repetidos."
      ],
      "metadata": {
        "id": "9eaSPrSwjQaI"
      }
    },
    {
      "cell_type": "code",
      "execution_count": null,
      "metadata": {
        "colab": {
          "base_uri": "https://localhost:8080/"
        },
        "id": "afzjvyOGNjfO",
        "outputId": "8950c710-9c0a-433e-9752-f27fef866c84"
      },
      "outputs": [
        {
          "output_type": "stream",
          "name": "stdout",
          "text": [
            "False\n",
            "True\n"
          ]
        }
      ],
      "source": [
        "def check_repetidos(lista):\n",
        "    no_repetidos = True\n",
        "    for i in lista:\n",
        "        if lista.count(i)>1:\n",
        "            no_repetidos = False\n",
        "    return no_repetidos \n",
        "lista = [1,2,1,3,4,5]\n",
        "print(check_repetidos(lista))\n",
        "lista = [1,2,3,4,5]\n",
        "print(check_repetidos(lista))"
      ]
    },
    {
      "cell_type": "code",
      "source": [
        "def check_repetidos2(lista):\n",
        "    return len(lista) == len(set(lista))\n",
        "lista = [1,2,1,3,4,5]\n",
        "print(check_repetidos2(lista))\n",
        "lista = [1,2,3,4,5]\n",
        "print(check_repetidos2(lista))"
      ],
      "metadata": {
        "colab": {
          "base_uri": "https://localhost:8080/"
        },
        "id": "NaZusIHHOU-A",
        "outputId": "9f1f4176-47ed-4f90-b1a0-3ac5ec63c945"
      },
      "execution_count": null,
      "outputs": [
        {
          "output_type": "stream",
          "name": "stdout",
          "text": [
            "False\n",
            "True\n"
          ]
        }
      ]
    },
    {
      "cell_type": "code",
      "source": [
        "def check_repetidos2(lista):\n",
        "    no_repetidos = True\n",
        "    for n, i in enumerate(lista):\n",
        "        for j in lista[n+1:]:\n",
        "            if i == j:\n",
        "                no_repetidos = False\n",
        "    return no_repetidos \n",
        "lista = [1,2,1,3,4,5]\n",
        "print(check_repetidos2(lista))\n",
        "lista = [1,2,3,4,5]\n",
        "print(check_repetidos2(lista))"
      ],
      "metadata": {
        "colab": {
          "base_uri": "https://localhost:8080/"
        },
        "id": "hI9jLmnqVhHO",
        "outputId": "bce11efe-046f-420c-98ec-9a183037529e"
      },
      "execution_count": null,
      "outputs": [
        {
          "output_type": "stream",
          "name": "stdout",
          "text": [
            "False\n",
            "True\n"
          ]
        }
      ]
    },
    {
      "cell_type": "markdown",
      "source": [
        "Desarrollar un programa que determine si un elemento de una lista es\n",
        "una cadena palíndrome. Si la cadena existe debe imprimirla y si no\n",
        "existe debe imprimir ’No existe’."
      ],
      "metadata": {
        "id": "OAhtDYd-jaXQ"
      }
    },
    {
      "cell_type": "code",
      "source": [
        "def check_cpalindrome(lista):\n",
        "    existe = 0\n",
        "    for i in lista:\n",
        "        if i == i[::-1]:\n",
        "            print(i)\n",
        "            existe = 1\n",
        "    if existe == 0: \n",
        "        print(\"No existe\") \n",
        "lista = [\"abc\", \"aba\", \"asdas\", \"somos\"]\n",
        "check_cpalindrome(lista)\n",
        "print()\n",
        "lista = [\"abc\", \"asdas\"]\n",
        "check_cpalindrome(lista)"
      ],
      "metadata": {
        "colab": {
          "base_uri": "https://localhost:8080/"
        },
        "id": "CYt2IgkjPFw3",
        "outputId": "dead018d-bfbd-41b3-d5e7-6835ca53846b"
      },
      "execution_count": null,
      "outputs": [
        {
          "output_type": "stream",
          "name": "stdout",
          "text": [
            "aba\n",
            "somos\n",
            "\n",
            "No existe\n"
          ]
        }
      ]
    },
    {
      "cell_type": "markdown",
      "source": [
        "Desarrollar un programa que determine si en una lista se encuentra\n",
        "una cadena de caracteres con dos o más vocales. Si la cadena existe\n",
        "debe imprimirla y si no existe debe imprimir ’No existe’."
      ],
      "metadata": {
        "id": "sPx1N4xkjunY"
      }
    },
    {
      "cell_type": "code",
      "source": [
        "def num_vocales(s):\n",
        "    num_vocales = 0\n",
        "    for vocal in \"aeiouAEIOU\":\n",
        "        for c in s:\n",
        "            if c == vocal:\n",
        "                num_vocales+=1\n",
        "    return num_vocales\n",
        "\n",
        "def check_dos_vocales(lista):\n",
        "    existe = 0\n",
        "    for i in lista:\n",
        "        if num_vocales(i)>=2:\n",
        "            print(i)\n",
        "            existe = 1\n",
        "    if existe == 0: \n",
        "        print(\"No existe\") \n",
        "lista = [\"abc\", \"aba\", \"asdas\", \"somos\"]\n",
        "check_dos_vocales(lista)\n",
        "print()\n",
        "lista = [\"abc\", \"asds\"]\n",
        "check_dos_vocales(lista)"
      ],
      "metadata": {
        "colab": {
          "base_uri": "https://localhost:8080/"
        },
        "id": "CSIS_jUZjxF4",
        "outputId": "cb720433-3271-40f2-f587-9893b5f71b1c"
      },
      "execution_count": null,
      "outputs": [
        {
          "output_type": "stream",
          "name": "stdout",
          "text": [
            "aba\n",
            "asdas\n",
            "somos\n",
            "\n",
            "No existe\n"
          ]
        }
      ]
    },
    {
      "cell_type": "markdown",
      "source": [
        "Desarrollar un programa que determine si una lista es palíndrome.\n",
        "Una lista es palíndrome si el elemento en la posición i es el mismo de\n",
        "la posición n − 1 − i con n la longitud de la lista."
      ],
      "metadata": {
        "id": "F9wrItGxmAID"
      }
    },
    {
      "cell_type": "code",
      "source": [
        "def check_lista_palindrome(lista):\n",
        "    lista_palindrome = True\n",
        "    lista_r = lista[::-1]\n",
        "    for n in range(len(lista)):\n",
        "        if lista_r[n] != lista[n]:\n",
        "                lista_palindrome = False\n",
        "    print(lista_palindrome) \n",
        "\n",
        "lista = [\"abc\", \"aba\", \"aba\", \"abc\"]\n",
        "check_lista_palindrome(lista)\n",
        "print()\n",
        "lista = [\"abc\", \"asds\", \"abc\"]\n",
        "check_lista_palindrome(lista)\n",
        "print()\n",
        "lista = [\"abc\", \"asds\"]\n",
        "check_lista_palindrome(lista)"
      ],
      "metadata": {
        "colab": {
          "base_uri": "https://localhost:8080/"
        },
        "id": "dnVJh5L0mFxA",
        "outputId": "9ef7d0e1-4dda-4ed8-a67d-ae2f88883270"
      },
      "execution_count": null,
      "outputs": [
        {
          "output_type": "stream",
          "name": "stdout",
          "text": [
            "True\n",
            "\n",
            "True\n",
            "\n",
            "False\n"
          ]
        }
      ]
    },
    {
      "cell_type": "code",
      "source": [
        "def check_lista_palindrome(lista):\n",
        "    lista_palindrome = True\n",
        "    for n in range(len(lista)//2+len(lista)%2):\n",
        "        if lista[n] != lista[(n*-1)-1]:\n",
        "                lista_palindrome = False\n",
        "    print(lista_palindrome) \n",
        "\n",
        "lista = [\"abc\", \"aba\", \"aba\", \"abc\"]\n",
        "check_lista_palindrome(lista)\n",
        "print()\n",
        "lista = [\"abc\", \"asds\", \"abc\"]\n",
        "check_lista_palindrome(lista)\n",
        "print()\n",
        "lista = [\"abc\", \"asds\"]\n",
        "check_lista_palindrome(lista)"
      ],
      "metadata": {
        "colab": {
          "base_uri": "https://localhost:8080/"
        },
        "id": "BbVte3CQoBV6",
        "outputId": "19e84e0c-32e2-413d-92c2-cdc99b1f49d9"
      },
      "execution_count": null,
      "outputs": [
        {
          "output_type": "stream",
          "name": "stdout",
          "text": [
            "abc abc\n",
            "aba aba\n",
            "True\n",
            "\n",
            "abc abc\n",
            "asds asds\n",
            "True\n",
            "\n",
            "abc asds\n",
            "False\n"
          ]
        }
      ]
    },
    {
      "cell_type": "markdown",
      "source": [
        "Desarrollar un programa que dadas dos listas determine que\n",
        "elementos tiene la primer lista que no tenga la segunda lista."
      ],
      "metadata": {
        "id": "MPbmnQgkpBav"
      }
    },
    {
      "cell_type": "code",
      "source": [
        "lista1=[1, \"Hola\", -12.3, True]\n",
        "lista2=[11, -12.3, \"Hola\", False]\n",
        "lista3 = [c for c in lista1 if c not in lista2]\n",
        "lista3"
      ],
      "metadata": {
        "colab": {
          "base_uri": "https://localhost:8080/"
        },
        "id": "v3bSATWupCQf",
        "outputId": "8fb74053-903d-499b-9dee-ccd3e562948a"
      },
      "execution_count": null,
      "outputs": [
        {
          "output_type": "execute_result",
          "data": {
            "text/plain": [
              "[1, True]"
            ]
          },
          "metadata": {},
          "execution_count": 13
        }
      ]
    },
    {
      "cell_type": "code",
      "source": [
        "lista1=[1, \"Hola\", -12.3, True]\n",
        "lista2=[11, -12.3, \"Hola\", False]\n",
        "lista3 = []\n",
        "for c in lista1:\n",
        "    if c not in lista2:\n",
        "        lista3.append(c)\n",
        "lista3"
      ],
      "metadata": {
        "colab": {
          "base_uri": "https://localhost:8080/"
        },
        "id": "hJ5w0wr4pXka",
        "outputId": "87fc0686-95ac-4d54-b17d-4cc997c603f4"
      },
      "execution_count": null,
      "outputs": [
        {
          "output_type": "execute_result",
          "data": {
            "text/plain": [
              "[1, True]"
            ]
          },
          "metadata": {},
          "execution_count": 14
        }
      ]
    },
    {
      "cell_type": "markdown",
      "source": [
        "Desarrollar un algoritmo que calcule el promedio de un arreglo de\n",
        "reales."
      ],
      "metadata": {
        "id": "NiXS903Gpc-R"
      }
    },
    {
      "cell_type": "code",
      "source": [
        "def promedio(lista):\n",
        "    return sum(lista)/len(lista)\n",
        "\n",
        "lista = [1,2/3,5.4,3.99,7/5]\n",
        "promedio(lista)"
      ],
      "metadata": {
        "colab": {
          "base_uri": "https://localhost:8080/"
        },
        "id": "G2gnDHvVpgut",
        "outputId": "583e0d33-48b1-4224-e068-5cb359b92cea"
      },
      "execution_count": null,
      "outputs": [
        {
          "output_type": "execute_result",
          "data": {
            "text/plain": [
              "2.4913333333333334"
            ]
          },
          "metadata": {},
          "execution_count": 15
        }
      ]
    },
    {
      "cell_type": "code",
      "source": [
        "def promedio(lista):\n",
        "    suma = 0\n",
        "    for n in lista:\n",
        "        suma+=n\n",
        "    resultado = suma/len(lista)\n",
        "    return resultado\n",
        "\n",
        "lista = [1,2/3,5.4,3.99,7/5]\n",
        "promedio(lista)"
      ],
      "metadata": {
        "colab": {
          "base_uri": "https://localhost:8080/"
        },
        "id": "bfLueUwaqE6R",
        "outputId": "2beba42e-7d6e-4829-d9ab-debf6eb42c16"
      },
      "execution_count": null,
      "outputs": [
        {
          "output_type": "execute_result",
          "data": {
            "text/plain": [
              "2.4913333333333334"
            ]
          },
          "metadata": {},
          "execution_count": 16
        }
      ]
    },
    {
      "cell_type": "markdown",
      "source": [
        "Desarrollar un algoritmo que calcule el producto punto de dos arreglos\n",
        "de números enteros (reales) de igual tamaño. Sean\n",
        "v = \\[v0, v1, . . . , vn−1] y w = \\[w0,w1, . . . ,wn−1] dos arreglos, el\n",
        "producto de v y w (notado v · w) es el número:\n",
        "v0 ∗ w0 + v1 ∗ w1 + · · · + vn−1 ∗ wn−1."
      ],
      "metadata": {
        "id": "Mo1MZGyzqSjM"
      }
    },
    {
      "cell_type": "code",
      "source": [
        "def producto_punto_arr(arr1,arr2):\n",
        "    producto = 0\n",
        "    for i, j in zip(arr1, arr2):\n",
        "        producto+=i*j\n",
        "    return producto\n",
        "\n",
        "arr1 = (1,2,3,4)\n",
        "arr2 = (5,6,7,8)\n",
        "producto_punto_arr(arr1,arr2)"
      ],
      "metadata": {
        "colab": {
          "base_uri": "https://localhost:8080/"
        },
        "id": "unueDvADVgNK",
        "outputId": "70b4a364-3c93-4181-80ac-df7cfa64636e"
      },
      "execution_count": null,
      "outputs": [
        {
          "output_type": "execute_result",
          "data": {
            "text/plain": [
              "70"
            ]
          },
          "metadata": {},
          "execution_count": 17
        }
      ]
    },
    {
      "cell_type": "code",
      "source": [
        "def producto_punto_arr2(arr1,arr2):\n",
        "    producto = 0\n",
        "    for n in range(len(arr1)):\n",
        "        producto+=arr1[n]*arr2[n]\n",
        "    return producto\n",
        "\n",
        "arr1 = (1,2,3,4)\n",
        "arr2 = (5,6,7,8)\n",
        "producto_punto_arr2(arr1,arr2)"
      ],
      "metadata": {
        "colab": {
          "base_uri": "https://localhost:8080/"
        },
        "id": "Pq3hiQYQa3vO",
        "outputId": "fa04ced1-190f-4b4d-e153-aef6bac9ad6b"
      },
      "execution_count": null,
      "outputs": [
        {
          "output_type": "execute_result",
          "data": {
            "text/plain": [
              "70"
            ]
          },
          "metadata": {},
          "execution_count": 18
        }
      ]
    },
    {
      "cell_type": "markdown",
      "source": [
        "Desarrollar un algoritmo que calcule el producto directo de dos\n",
        "arreglos de números reales de igual tamaño. Sean\n",
        "v = [v0, v1, . . . , vn−1] y w = [w0,w1, . . . ,wn−1] dos arreglos, el\n",
        "producto directo de v y w (notado v ∗ w) es el vector:\n",
        "[v0 ∗ w0, v1 ∗ w1, . . . , vn−1 ∗ wn−1]."
      ],
      "metadata": {
        "id": "BQu6pASwqqqt"
      }
    },
    {
      "cell_type": "code",
      "source": [
        "def producto_arr2(arr1,arr2):\n",
        "    producto = []\n",
        "    for n in range(len(arr1)):\n",
        "        producto.append(arr1[n]*arr2[n])\n",
        "    return producto\n",
        "\n",
        "arr1 = (1,2,3,4)\n",
        "arr2 = (5,6,7,8)\n",
        "producto_arr2(arr1,arr2)"
      ],
      "metadata": {
        "colab": {
          "base_uri": "https://localhost:8080/"
        },
        "id": "ijI2IaNAqvif",
        "outputId": "8723a678-efc9-4770-de02-f7c39b15f1fa"
      },
      "execution_count": null,
      "outputs": [
        {
          "output_type": "execute_result",
          "data": {
            "text/plain": [
              "[5, 12, 21, 32]"
            ]
          },
          "metadata": {},
          "execution_count": 20
        }
      ]
    },
    {
      "cell_type": "code",
      "source": [
        "def producto_arr(arr1,arr2):\n",
        "    return [arr1[n]*arr2[n] for n in range(len(arr1))]\n",
        "\n",
        "arr1 = (1,2,3,4)\n",
        "arr2 = (5,6,7,8)\n",
        "producto_arr(arr1,arr2)"
      ],
      "metadata": {
        "colab": {
          "base_uri": "https://localhost:8080/"
        },
        "id": "_rsgXKTWrKXX",
        "outputId": "1e66aa98-63b8-47f0-de6a-5832c0da0712"
      },
      "execution_count": null,
      "outputs": [
        {
          "output_type": "execute_result",
          "data": {
            "text/plain": [
              "[5, 12, 21, 32]"
            ]
          },
          "metadata": {},
          "execution_count": 21
        }
      ]
    },
    {
      "cell_type": "markdown",
      "source": [
        "Desarrollar un algoritmo que determine la mediana de un arreglo de\n",
        "enteros. La mediana es el número que queda en la mitad del arreglo\n",
        "después de ser ordenado."
      ],
      "metadata": {
        "id": "gREX_QSLrkhX"
      }
    },
    {
      "cell_type": "code",
      "source": [
        "def mediana_arr(arr):\n",
        "    mediana = None\n",
        "    l = len(arr)\n",
        "    if len(arr)%2 == 0:\n",
        "        mediana = (arr[l//2-1]+arr[l//2])/2\n",
        "    else:\n",
        "        mediana = arr[l//2]\n",
        "    return mediana\n",
        "\n",
        "arr = (1,2,3,4)\n",
        "print(mediana_arr(arr))\n",
        "arr = (1,2,3,4,5)\n",
        "print(mediana_arr(arr))"
      ],
      "metadata": {
        "colab": {
          "base_uri": "https://localhost:8080/"
        },
        "id": "8qMWwi0vrj7Q",
        "outputId": "cff313d0-9eac-4013-9879-61f6866a3e4f"
      },
      "execution_count": null,
      "outputs": [
        {
          "output_type": "stream",
          "name": "stdout",
          "text": [
            "2.5\n",
            "3\n"
          ]
        }
      ]
    },
    {
      "cell_type": "markdown",
      "source": [
        "Hacer un algoritmo que deje al final de un arreglo de números todos\n",
        "los ceros que aparezcan en dicho arreglo."
      ],
      "metadata": {
        "id": "UrpLTPR8tnZi"
      }
    },
    {
      "cell_type": "code",
      "source": [
        "def mover_ceros(arr):\n",
        "    ceros = []\n",
        "    while 0 in arr:\n",
        "        ceros.append(arr.pop(arr.index(0)))\n",
        "    return arr+ceros\n",
        "\n",
        "arr = [1,0,0,4]\n",
        "print(mover_ceros(arr))\n",
        "arr = [1,0,3,0,5]\n",
        "print(mover_ceros(arr))"
      ],
      "metadata": {
        "colab": {
          "base_uri": "https://localhost:8080/"
        },
        "id": "RssZIMMStn86",
        "outputId": "d5d00dbc-77ae-4d43-94e1-2396bc02b871"
      },
      "execution_count": null,
      "outputs": [
        {
          "output_type": "stream",
          "name": "stdout",
          "text": [
            "[1, 4, 0, 0]\n",
            "[1, 3, 5, 0, 0]\n"
          ]
        }
      ]
    },
    {
      "cell_type": "code",
      "source": [
        "def mover_ceros(arr):\n",
        "    ceros = []\n",
        "    while 0 in arr:\n",
        "        ceros.append(arr.pop(arr.index(0)))\n",
        "    return arr+ceros\n",
        "\n",
        "arr = [1,0,0,4]\n",
        "print(mover_ceros(arr))\n",
        "arr = [1,0,3,0,5]\n",
        "print(mover_ceros(arr))"
      ],
      "metadata": {
        "colab": {
          "base_uri": "https://localhost:8080/"
        },
        "id": "Ui8niZiKutlZ",
        "outputId": "565a1751-4be4-4e09-939d-03a71d5b2c48"
      },
      "execution_count": null,
      "outputs": [
        {
          "output_type": "stream",
          "name": "stdout",
          "text": [
            "[1, 4, 0, 0]\n",
            "[1, 3, 5, 0, 0]\n"
          ]
        }
      ]
    },
    {
      "cell_type": "code",
      "source": [
        "def mover_ceros2(arr):\n",
        "    return [i for i in arr if i!=0] + [i for i in arr if i==0]\n",
        "\n",
        "arr = [1,0,0,4]\n",
        "print(mover_ceros2(arr))\n",
        "arr = [1,0,3,0,5]\n",
        "print(mover_ceros2(arr))"
      ],
      "metadata": {
        "colab": {
          "base_uri": "https://localhost:8080/"
        },
        "id": "DiSsR2Bbvd87",
        "outputId": "a4905234-924c-40ba-d35c-4f639a59249d"
      },
      "execution_count": null,
      "outputs": [
        {
          "output_type": "stream",
          "name": "stdout",
          "text": [
            "[1, 4, 0, 0]\n",
            "[1, 3, 5, 0, 0]\n"
          ]
        }
      ]
    },
    {
      "cell_type": "code",
      "source": [
        "def mover_ceros3(arr):\n",
        "    return list(filter(lambda x: x!=0,arr)) + list(filter(lambda x: x==0,arr))\n",
        "arr = [1,0,0,4]\n",
        "print(mover_ceros3(arr))\n",
        "arr = [0, 11, 36, 10, 0, 17, -23, 81, 0, 0, 12, 11, 0]\n",
        "print(mover_ceros3(arr))"
      ],
      "metadata": {
        "colab": {
          "base_uri": "https://localhost:8080/"
        },
        "id": "fPhwrg3hxFgZ",
        "outputId": "5824d68c-2a74-423b-ae1a-06f962334e55"
      },
      "execution_count": null,
      "outputs": [
        {
          "output_type": "stream",
          "name": "stdout",
          "text": [
            "[1, 4, 0, 0]\n",
            "[11, 36, 10, 17, -23, 81, 12, 11, 0, 0, 0, 0, 0]\n"
          ]
        }
      ]
    },
    {
      "cell_type": "code",
      "source": [
        "def mover_ceros4(arr):\n",
        "    ceros = []\n",
        "    arr2 = []\n",
        "    for n in range(len(arr)):\n",
        "        if arr[n] == 0:\n",
        "            ceros.append(0)\n",
        "        else:\n",
        "            arr2.append(arr[n])\n",
        "    return arr2 + ceros\n",
        "arr = [1,0,0,4]\n",
        "print(mover_ceros4(arr))\n",
        "arr = [0, 11, 36, 10, 0, 17, -23, 81, 0, 0, 12, 11, 0]\n",
        "print(mover_ceros4(arr))"
      ],
      "metadata": {
        "colab": {
          "base_uri": "https://localhost:8080/"
        },
        "id": "PSCshOvh_aEe",
        "outputId": "5e6ff97d-d758-4549-9f23-5efadef7d4b9"
      },
      "execution_count": null,
      "outputs": [
        {
          "output_type": "stream",
          "name": "stdout",
          "text": [
            "[1, 4, 0, 0]\n",
            "[11, 36, 10, 17, -23, 81, 12, 11, 0, 0, 0, 0, 0]\n"
          ]
        }
      ]
    },
    {
      "cell_type": "markdown",
      "source": [
        "Desarrollar un algoritmo que permita sumar dos matrices de números\n",
        "reales (enteros)."
      ],
      "metadata": {
        "id": "dTHeapT8Bsxl"
      }
    },
    {
      "cell_type": "code",
      "source": [
        "def sum_matriz(m1, m2):\n",
        "    m3 = []\n",
        "    for n1 in range(len(m1)):\n",
        "        sm3 = []\n",
        "        for n2 in range(len(m1[0])):\n",
        "            sum = m1[n1][n2] + m2[n1][n2]\n",
        "            sm3.append(sum)\n",
        "        m3.append(sm3)\n",
        "    return m3\n",
        "\n",
        "matriz1 = [[1,2,3],[4,5,6],[7,8,9]]\n",
        "matriz2 = [[56,87,8/5],[65/7,56,31],[516,564,1]]\n",
        "sum_matriz(matriz1, matriz2)"
      ],
      "metadata": {
        "colab": {
          "base_uri": "https://localhost:8080/"
        },
        "id": "acrEvSl0Bsbu",
        "outputId": "fcfefa83-c599-4a4d-81d2-84d18ed4fbad"
      },
      "execution_count": null,
      "outputs": [
        {
          "output_type": "execute_result",
          "data": {
            "text/plain": [
              "[[57, 89, 4.6], [13.285714285714286, 61, 37], [523, 572, 10]]"
            ]
          },
          "metadata": {},
          "execution_count": 13
        }
      ]
    },
    {
      "cell_type": "code",
      "source": [
        "def sum_matriz(m1, m2):\n",
        "    return [[m1[n1][n2] + m2[n1][n2] for n2 in range(len(m1[0]))] for n1 in range(len(m1))]\n",
        "\n",
        "matriz1 = [[1,2,3],[4,5,6],[7,8,9]]\n",
        "matriz2 = [[56,87,8/5],[65/7,56,31],[516,564,1]]\n",
        "sum_matriz(matriz1, matriz2)"
      ],
      "metadata": {
        "colab": {
          "base_uri": "https://localhost:8080/"
        },
        "id": "7F5oP_m4Dq-q",
        "outputId": "9597fb7a-caef-4b86-a6b4-1f8dce37cd83"
      },
      "execution_count": null,
      "outputs": [
        {
          "output_type": "execute_result",
          "data": {
            "text/plain": [
              "[[57, 89, 4.6], [13.285714285714286, 61, 37], [523, 572, 10]]"
            ]
          },
          "metadata": {},
          "execution_count": 17
        }
      ]
    },
    {
      "cell_type": "markdown",
      "source": [
        "Desarrollar un algoritmo que permita multiplicar dos matrices de\n",
        "números reales (enteros)."
      ],
      "metadata": {
        "id": "9M2V4kdbErmt"
      }
    },
    {
      "cell_type": "code",
      "source": [
        "def mult_matriz(m1, m2):\n",
        "    m3 = []\n",
        "    for n3 in range(len(m1)):\n",
        "        sm3 = []\n",
        "        for n1 in range(len(m1)):\n",
        "            sum = 0\n",
        "            for n2 in range(len(m1)):\n",
        "                sum += m1[n3][n2]*m2[n2][n1]\n",
        "            sm3.append(sum)\n",
        "        m3.append(sm3)\n",
        "    return m3\n",
        "\n",
        "matriz1 = [[1,2,3],[4,5,6],[7,8,9]]\n",
        "matriz2 = [[56,87,8],[65,56,31],[516,564,1]]\n",
        "mult_matriz(matriz1, matriz2)"
      ],
      "metadata": {
        "colab": {
          "base_uri": "https://localhost:8080/"
        },
        "id": "mwZNSvyEEvHn",
        "outputId": "04b71245-c5ed-4db4-9874-fee711a7475d"
      },
      "execution_count": null,
      "outputs": [
        {
          "output_type": "execute_result",
          "data": {
            "text/plain": [
              "[[1734, 1891, 73], [3645, 4012, 193], [5556, 6133, 313]]"
            ]
          },
          "metadata": {},
          "execution_count": 31
        }
      ]
    },
    {
      "cell_type": "markdown",
      "source": [
        "Desarrollar un programa que sume los elementos de una columna\n",
        "dada de una matriz."
      ],
      "metadata": {
        "id": "Na80cGPzSUDA"
      }
    },
    {
      "cell_type": "code",
      "source": [
        "def sum_col_matriz(c, m1):\n",
        "    suma = 0\n",
        "    for n in range(len(m1)):\n",
        "        suma+=m1[n][c]\n",
        "    return suma\n",
        "\n",
        "matriz1 = [[1,2,3],[4,5,6],[7,8,9]]\n",
        "sum_col_matriz(2, matriz1)"
      ],
      "metadata": {
        "colab": {
          "base_uri": "https://localhost:8080/"
        },
        "id": "pEERIeYlSV2t",
        "outputId": "7f11e80f-c325-45e5-c6f6-1cb324e69e1b"
      },
      "execution_count": null,
      "outputs": [
        {
          "output_type": "execute_result",
          "data": {
            "text/plain": [
              "18"
            ]
          },
          "metadata": {},
          "execution_count": 42
        }
      ]
    },
    {
      "cell_type": "markdown",
      "source": [
        "Desarrollar un programa que sume los elementos de una fila dada de\n",
        "una matriz."
      ],
      "metadata": {
        "id": "m6133FRcTk6s"
      }
    },
    {
      "cell_type": "code",
      "source": [
        "def sum_fila_matriz(f, m1):\n",
        "    suma = 0\n",
        "    for n in range(len(m1)):\n",
        "        suma+=m1[f][n]\n",
        "    return suma\n",
        "\n",
        "matriz1 = [[1,2,3],[4,5,6],[7,8,9]]\n",
        "sum_fila_matriz(0, matriz1)"
      ],
      "metadata": {
        "colab": {
          "base_uri": "https://localhost:8080/"
        },
        "id": "S-4U-dyATmf-",
        "outputId": "ac978909-6020-4926-e4a5-2b6afe1c3f97"
      },
      "execution_count": null,
      "outputs": [
        {
          "output_type": "execute_result",
          "data": {
            "text/plain": [
              "6"
            ]
          },
          "metadata": {},
          "execution_count": 37
        }
      ]
    },
    {
      "cell_type": "code",
      "source": [
        "def sum_diagonal_matriz(m1):\n",
        "    suma1 = 0\n",
        "    suma2 = 0\n",
        "    for n in range(len(m1)):\n",
        "        suma1+=m1[n][n]\n",
        "        suma2+=m1[(n*-1)-1][n]\n",
        "    return suma1, suma2\n",
        "\n",
        "matriz1 = [[1,2,3],[4,5,6],[7,8,9]]\n",
        "sum_diagonal_matriz(matriz1)"
      ],
      "metadata": {
        "colab": {
          "base_uri": "https://localhost:8080/"
        },
        "id": "Jr9LnHXPWdL4",
        "outputId": "135c613c-f219-49c6-fee1-37f0792fd431"
      },
      "execution_count": null,
      "outputs": [
        {
          "output_type": "execute_result",
          "data": {
            "text/plain": [
              "(15, 15)"
            ]
          },
          "metadata": {},
          "execution_count": 40
        }
      ]
    },
    {
      "cell_type": "markdown",
      "source": [
        "Desarrollar un algoritmo que determine si una matriz es mágica. Se\n",
        "dice que una matriz cuadrada es mágica si la suma de cada una de\n",
        "sus filas, de cada una de sus columnas y de cada diagonal es igual."
      ],
      "metadata": {
        "id": "Vqu8U4qhUA98"
      }
    },
    {
      "cell_type": "code",
      "source": [
        "def check_magico(m):\n",
        "    magico = True\n",
        "    base = sum_fila_matriz(0, m)\n",
        "    sum = 0\n",
        "    for n in range(len(m)):\n",
        "        if sum_fila_matriz(n, m) != base:\n",
        "            magico = False\n",
        "            break\n",
        "        if sum_col_matriz(n, m) != base:\n",
        "            magico = False\n",
        "            break\n",
        "    if magico and sum_diagonal_matriz(m) != (base, base):\n",
        "            magico = False\n",
        "    return magico\n",
        "    \n",
        "matriz1 = [[1,2,3],[4,5,6],[7,8,9]]\n",
        "print(check_magico(matriz1))   \n",
        "matriz1 = [[1,1,1],[1,1,1],[1,1,1]]\n",
        "print(check_magico(matriz1)) \n",
        "matriz1 = [[8,1,6],[3,5,7],[4,9,2]]\n",
        "print(check_magico(matriz1)) "
      ],
      "metadata": {
        "colab": {
          "base_uri": "https://localhost:8080/"
        },
        "id": "e0T2-x-1UHjP",
        "outputId": "b38712d9-8fc6-484a-bc05-b0b88d9af4f1"
      },
      "execution_count": null,
      "outputs": [
        {
          "output_type": "stream",
          "name": "stdout",
          "text": [
            "False\n",
            "True\n",
            "True\n"
          ]
        }
      ]
    }
  ]
}