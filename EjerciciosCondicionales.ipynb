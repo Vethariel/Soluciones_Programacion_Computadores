{
  "nbformat": 4,
  "nbformat_minor": 0,
  "metadata": {
    "colab": {
      "provenance": [],
      "collapsed_sections": [],
      "authorship_tag": "ABX9TyP2O8bIO+FUvNdBWSCngODQ",
      "include_colab_link": true
    },
    "kernelspec": {
      "name": "python3",
      "display_name": "Python 3"
    },
    "language_info": {
      "name": "python"
    }
  },
  "cells": [
    {
      "cell_type": "markdown",
      "metadata": {
        "id": "view-in-github",
        "colab_type": "text"
      },
      "source": [
        "<a href=\"https://colab.research.google.com/github/Vethariel/Soluciones_Programacion_Computadores/blob/main/EjerciciosCondicionales.ipynb\" target=\"_parent\"><img src=\"https://colab.research.google.com/assets/colab-badge.svg\" alt=\"Open In Colab\"/></a>"
      ]
    },
    {
      "cell_type": "markdown",
      "source": [
        "# Problemas con condicionales y funciones\n",
        "Daniel Alonso Gracia Pinto\\\n",
        "Programación de Computadores Grupo 11\\\n",
        "Ing. Elizabeth León Guzmán"
      ],
      "metadata": {
        "id": "iVnS8lN_-QbV"
      }
    },
    {
      "cell_type": "markdown",
      "source": [
        "1. Construir un programa para los estudiantes del curso de Programación de computadores que calcule la nota definitiva del curso. La calificación se compone de:\n",
        "- 25 % corresponde a Proyecto\n",
        "- 30 % corresponde a talleres\n",
        "- 30 % corresponde a parciales\n",
        "- 15 % corresponde a tareas y quizzes \\\n",
        "El programa al final debe imprimir la nota y un mensaje si aprobó o reprobó el curso. El curso se pasa con nota mayor a 3.0 (la nota definitiva esta entre 1 y 5, y las demás notas están entre 1 y 10).El cálculo de la nota definitiva se debe realizar en una función."
      ],
      "metadata": {
        "id": "s71vBuYl-Rh0"
      }
    },
    {
      "cell_type": "code",
      "execution_count": null,
      "metadata": {
        "colab": {
          "base_uri": "https://localhost:8080/"
        },
        "id": "vjvyzbAk-K6H",
        "outputId": "b1aae61b-612a-46d2-effc-6fc5ecc1508d"
      },
      "outputs": [
        {
          "output_type": "stream",
          "name": "stdout",
          "text": [
            "Escribe la nota de proyecto: 9\n",
            "Escribe la nota de talleres: 10\n",
            "Escribe la nota de parciales: 10\n",
            "Escribe la nota de tareas y quizzes: 9\n",
            "Tu nota definitiva es 4.8. Aprobaste el curso\n"
          ]
        }
      ],
      "source": [
        "def calculoDefinitiva():\n",
        "  notaDefinitiva = 0\n",
        "  notaDefinitiva += notaValida(\"Escribe la nota de proyecto: \")*25/100\n",
        "  notaDefinitiva += notaValida(\"Escribe la nota de talleres: \")*30/100\n",
        "  notaDefinitiva += notaValida(\"Escribe la nota de parciales: \")*30/100\n",
        "  notaDefinitiva += notaValida(\"Escribe la nota de tareas y quizzes: \")*15/100\n",
        "  notaDefinitiva = round(notaDefinitiva*5/10,2)\n",
        "  resultado = f\"Tu nota definitiva es {notaDefinitiva}. \" \n",
        "  resultado += \"Aprobaste el curso\" if notaDefinitiva>=3.0 else \"Reprobaste el curso\" \n",
        "  return resultado\n",
        "\n",
        "def notaValida(mensaje, max=10):\n",
        "    nota = float(input(mensaje))\n",
        "    while not(nota>=1 and nota<=max):\n",
        "      print(\"Esa no es una nota valida!\")\n",
        "      nota = float(input(mensaje))\n",
        "    return nota\n",
        "    \n",
        "print(calculoDefinitiva()) "
      ]
    },
    {
      "cell_type": "code",
      "source": [
        "'''\n",
        "# Intentar nuevamente max 5\n",
        "def tipoValido(mensaje):\n",
        "  nota = None\n",
        "  count = 0\n",
        "  while nota==None:\n",
        "    try:\n",
        "      nota = float(input(mensaje))\n",
        "      return nota\n",
        "    except:\n",
        "      count+=1\n",
        "      print(\"Valor no valido!\")\n",
        "      if count>5: break\n",
        "  raise Exception(\"Formato no valido, intente nuevamente\")\n",
        "'''"
      ],
      "metadata": {
        "id": "j81ZwvbbVsll"
      },
      "execution_count": null,
      "outputs": []
    },
    {
      "cell_type": "markdown",
      "source": [
        "2. Construir un programa que almacene en una variable una cadena de caracteres contraseña y en otra variable la cadena usuario, pregunte al usuario por el usuario y la contraseña, e imprima por pantalla si la contraseña y usuario son correctos, si la contraseña es incorrecta o si el usuario es incorrecto. Sin tener en cuenta mayúsculas y minúsculas."
      ],
      "metadata": {
        "id": "u-le3q12-gEs"
      }
    },
    {
      "cell_type": "code",
      "source": [
        "usuario = \"PepitoPerez\"\n",
        "contrasena = \"fdstr14.15\"\n",
        "def validarDatos(usuario, contrasena):\n",
        "  compUsuario = input(\"Esriba el usuario: \")\n",
        "  compContrasena = input(\"Esriba la contraseña: \")\n",
        "  mensaje = \"\"\n",
        "  if usuario.lower()!=compUsuario.lower():\n",
        "    mensaje =\"El usuario es incorrecto\"\n",
        "  elif contrasena.lower()!=compContrasena.lower():\n",
        "    mensaje =\"La contrasena es incorrecta\"\n",
        "  else:\n",
        "    mensaje =\"El usuario y la contrasena son correctos\"\n",
        "  return mensaje\n",
        "print(validarDatos(usuario, contrasena))"
      ],
      "metadata": {
        "colab": {
          "base_uri": "https://localhost:8080/"
        },
        "id": "WIgZjVn1-jtJ",
        "outputId": "235ff234-642f-404f-b587-6eb205c09b25"
      },
      "execution_count": null,
      "outputs": [
        {
          "output_type": "stream",
          "name": "stdout",
          "text": [
            "Esriba el usuario: pepitoperez\n",
            "Esriba la contraseña: 54\n",
            "La contrasena es incorrecta\n"
          ]
        }
      ]
    },
    {
      "cell_type": "markdown",
      "source": [
        "3. Construir un programa que lea los valores de los lados de un triángulo e imprima si es Equilátero, Isósceles o Escaleno. Implementar una función que reciba como argumentos los valores de lados del triangulo (en R) y retorne el tipo de triangulo en una cadena de caracteres(string).\n",
        "\\begin{gather}\n",
        "tipo\\_triangulo: R → ASCII^* \n",
        "\\end{gather}"
      ],
      "metadata": {
        "id": "pn8rVTXB-kA2"
      }
    },
    {
      "cell_type": "code",
      "source": [
        "l1 = float(input(\"Escriba el primer lado del triangulo: \"))\n",
        "l2 = float(input(\"Escriba el segundo lado del triangulo: \"))\n",
        "l3 = float(input(\"Escriba el tercer lado del triangulo: \"))\n",
        "def tipoTriangulo(l1,l2,l3):\n",
        "  tipo = \"El triangulo es Escaleno\"\n",
        "  if l1==l2 or l2==l3 or l1==l3: tipo = \"El triangulo es Isosceles\"\n",
        "  if l1==l2 and l2==l3: tipo = \"El triangulo es Equilatero\"\n",
        "  return tipo\n",
        "print(tipoTriangulo(l1,l2,l3))"
      ],
      "metadata": {
        "colab": {
          "base_uri": "https://localhost:8080/"
        },
        "id": "OG7xDnLc-mw3",
        "outputId": "6f540ca8-b35f-44b5-dd73-fb2e433ff9c7"
      },
      "execution_count": null,
      "outputs": [
        {
          "output_type": "stream",
          "name": "stdout",
          "text": [
            "Escriba el primer lado del triangulo: 5\n",
            "Escriba el segundo lado del triangulo: 3\n",
            "Escriba el tercer lado del triangulo: 5\n",
            "El triangulo es Isosceles\n"
          ]
        }
      ]
    },
    {
      "cell_type": "markdown",
      "source": [
        "4. En un circuito eléctrico hay tres interruptores, los cuales pueden estar en estado cerrado (0) o abierto(1). Para que un equipo funcione, se requiere que al menos dos estén abiertos. Construir un programa en el que los datos de entrada son el estado de los tres interruptores, y determine si el equipo funcionará o no."
      ],
      "metadata": {
        "id": "1TXKmGzx_FuR"
      }
    },
    {
      "cell_type": "code",
      "source": [
        "i1 = int(input(\"Escriba el estado del primer interruptor: \"))\n",
        "i2 = int(input(\"Escriba el estado del segundo interruptor: \"))\n",
        "i3 = int(input(\"Escriba el estado del tercer interruptor: \"))\n",
        "def esFuncional(i1,i2,i3):\n",
        "  estado = i1 + i2 + i3\n",
        "  return \"El equipo funciona\" if estado>=2 else \"El equipo no funciona\"\n",
        "print(esFuncional(i1,i2,i3))"
      ],
      "metadata": {
        "colab": {
          "base_uri": "https://localhost:8080/"
        },
        "id": "iotlxF3b_GeJ",
        "outputId": "48235947-0495-4a86-c53b-cfbe1eabd952"
      },
      "execution_count": null,
      "outputs": [
        {
          "output_type": "stream",
          "name": "stdout",
          "text": [
            "Escriba el estado del primer interruptor: 1\n",
            "Escriba el estado del segundo interruptor: 1\n",
            "Escriba el estado del tercer interruptor: 0\n",
            "El equipo funciona\n"
          ]
        }
      ]
    },
    {
      "cell_type": "code",
      "source": [
        "i1 = int(input(\"Escriba el estado del primer interruptor: \"))\n",
        "i2 = int(input(\"Escriba el estado del segundo interruptor: \"))\n",
        "i3 = int(input(\"Escriba el estado del tercer interruptor: \"))\n",
        "def esFuncional(i1,i2,i3):\n",
        "  estado = False\n",
        "  if i1==1 and (i2==1 or i3==1):\n",
        "    estado=True\n",
        "  elif i2==1 and (i1==1 or i3==1):\n",
        "    estado=True\n",
        "  elif i3==1 and (i2==1 or i1==1):\n",
        "    estado=True\n",
        "  return \"El equipo funciona\" if estado else \"El equipo no funciona\"\n",
        "print(esFuncional(i1,i2,i3))"
      ],
      "metadata": {
        "colab": {
          "base_uri": "https://localhost:8080/"
        },
        "id": "5OagcXyc2f36",
        "outputId": "5d5d9b9e-5b42-48a1-904c-eac1f184523a"
      },
      "execution_count": null,
      "outputs": [
        {
          "output_type": "stream",
          "name": "stdout",
          "text": [
            "Escriba el estado del primer interruptor: 1\n",
            "Escriba el estado del segundo interruptor: 0\n",
            "Escriba el estado del tercer interruptor: 0\n",
            "El equipo no funciona\n"
          ]
        }
      ]
    },
    {
      "cell_type": "markdown",
      "source": [
        "5. Construir una función que dadas tres longitudes positivas, determine si con esas longitudes se puede construir un triángulo."
      ],
      "metadata": {
        "id": "AQD8AgsJzEOI"
      }
    },
    {
      "cell_type": "code",
      "source": [
        "l1 = float(input(\"Escriba el primer lado del triangulo: \"))\n",
        "l2 = float(input(\"Escriba el segundo lado del triangulo: \"))\n",
        "l3 = float(input(\"Escriba el tercer lado del triangulo: \"))\n",
        "def esValidoTriangulo(l1,l2,l3):\n",
        "  return \"El triangulo es valido\" if l1+l2>l3 and l1+l3>l2 and l2+l3>l1 else \"El triangulo no es valido\"\n",
        "print(esValidoTriangulo(l1,l2,l3))"
      ],
      "metadata": {
        "colab": {
          "base_uri": "https://localhost:8080/"
        },
        "id": "mnGhRmBczEoI",
        "outputId": "13f32f4d-5844-42d2-f84a-d87adc5f6368"
      },
      "execution_count": null,
      "outputs": [
        {
          "output_type": "stream",
          "name": "stdout",
          "text": [
            "Escriba el primer lado del triangulo: 20\n",
            "Escriba el segundo lado del triangulo: 25\n",
            "Escriba el tercer lado del triangulo: 1\n",
            "El triangulo no es valido\n"
          ]
        }
      ]
    },
    {
      "cell_type": "markdown",
      "source": [
        "6. Construir un programa que reciba un numero (1 o 2). La opción 1 para calcular el área de un rectángulo o la opción 2 para calcular el área de un círculo. Si la opción es 1 el programa pregunta al usuario adicionalmente el lado y ancho del rectángulo y usa (o invoca) a la función area rectangulo (construida previamente en clase) para calcular el área; si la opción es 2, el programa pregunta por el radio del círculo y usa (o invoca) a la función area circulo (construida previamente en clase). Al final el programa imprime el mensaje: \"El área del circulo es: valor\" o \"El área del rectángulo es: valor\""
      ],
      "metadata": {
        "id": "a3rtjXAu_Gua"
      }
    },
    {
      "cell_type": "code",
      "source": [
        "from math import pi\n",
        "opcion = int(input(\"Eliga la funcion a utilizar:\\n1. Calcular area de un rectangulo\\n2. Calcular area de un circulo\\n\"))\n",
        "def areaRectangulo(l,a):\n",
        "  return l*a\n",
        "def areaCirculo(r):\n",
        "  return round(pi*r**2,2)\n",
        "if opcion ==1:\n",
        "  l = float(input(\"Escriba el largo del rectangulo: \"))\n",
        "  a = float(input(\"Escriba el ancho del rectangulo: \"))\n",
        "  print(f\"El area del rectangulo es: {areaRectangulo(l,a)}\")\n",
        "elif opcion ==2:\n",
        "  r = float(input(\"Escriba el radio del circulo: \"))\n",
        "  print(f\"El area del circulo es: {areaCirculo(r)}\")"
      ],
      "metadata": {
        "colab": {
          "base_uri": "https://localhost:8080/"
        },
        "id": "-CPUYlv-_KNq",
        "outputId": "4a74fe28-fc01-493c-fc28-9b5cdc6be4aa"
      },
      "execution_count": null,
      "outputs": [
        {
          "output_type": "stream",
          "name": "stdout",
          "text": [
            "Eliga la funcion a utilizar:\n",
            "1. Calcular area de un rectangulo\n",
            "2. Calcular area de un circulo\n",
            "2\n",
            "Escriba el radio del circulo: 2\n",
            "El area del circulo es: 12.57\n"
          ]
        }
      ]
    }
  ]
}