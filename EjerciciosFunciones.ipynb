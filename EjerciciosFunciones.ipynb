{
  "nbformat": 4,
  "nbformat_minor": 0,
  "metadata": {
    "colab": {
      "provenance": [],
      "collapsed_sections": [],
      "authorship_tag": "ABX9TyM/51DLOS30HR+LmhIuceDa",
      "include_colab_link": true
    },
    "kernelspec": {
      "name": "python3",
      "display_name": "Python 3"
    },
    "language_info": {
      "name": "python"
    }
  },
  "cells": [
    {
      "cell_type": "markdown",
      "metadata": {
        "id": "view-in-github",
        "colab_type": "text"
      },
      "source": [
        "<a href=\"https://colab.research.google.com/github/Vethariel/Soluciones_Programacion_Computadores/blob/main/EjerciciosFunciones.ipynb\" target=\"_parent\"><img src=\"https://colab.research.google.com/assets/colab-badge.svg\" alt=\"Open In Colab\"/></a>"
      ]
    },
    {
      "cell_type": "markdown",
      "source": [
        "Volumen solido:\n",
        "---\n",
        "<div> Modelo matemático:\n",
        "\\begin{align}\n",
        "volumen\\_esfera:\\mathbb{R}\\rightarrow \\mathbb{R}\n",
        "\\end{align}\n",
        "\\begin{align}\n",
        "(r1)\\mapsto \\frac{{4}}{3}\\cdot \\pi\\cdot r1^{3}\n",
        "\\end{align}\n",
        "\\begin{align}\n",
        "volumen\\_cono:\\mathbb{R}\\times \\mathbb{R}\\rightarrow \\mathbb{R}\n",
        "\\end{align}\n",
        "\\begin{align}\n",
        "(r2,h)\\mapsto \\frac{{2}}{3}\\cdot \\pi\\cdot h \\cdot r2^{2}\n",
        "\\end{align}\n",
        "\\begin{align}\n",
        "volumen\\_total:\\mathbb{R}\\times \\mathbb{R}\\times \\mathbb{R}\\rightarrow \\mathbb{R}\n",
        "\\end{align}\n",
        "\\begin{align}\n",
        "(r1,r2,h)\\mapsto volumen\\_esfera(r1)+volumen\\_cono(r2,h)\n",
        "\\end{align}"
      ],
      "metadata": {
        "id": "uEc3FVlIkV4N"
      }
    },
    {
      "cell_type": "code",
      "source": [
        "from math import pi\n",
        "r1=float(input(\"radio esfera: \"))\n",
        "r2=float(input(\"radio cono: \"))\n",
        "h=float(input(\"altura cono: \"))\n",
        "def volumen_esfera(r1):\n",
        "  volumenEsfera = 4*pi*r1**3/3\n",
        "  return volumenEsfera\n",
        "def volumen_cono(r2,h):\n",
        "  volumenCono = pi*h*r2**2/3\n",
        "  return  volumenCono\n",
        "def volumen_total(r1,r2,h):\n",
        "  return volumen_esfera(r1) + volumen_cono(r2,h)\n",
        "print(f\"El volumen total es: {volumen_total(r1,r2,h)}\")"
      ],
      "metadata": {
        "colab": {
          "base_uri": "https://localhost:8080/"
        },
        "id": "8aZApSwjkVsq",
        "outputId": "7d85c702-bf0a-427b-fca6-7a059cbd3694"
      },
      "execution_count": null,
      "outputs": [
        {
          "output_type": "stream",
          "name": "stdout",
          "text": [
            "radio esfera: 10\n",
            "radio cono: 10\n",
            "altura cono: 10\n",
            "El volumen total es: 5235.987755982988\n"
          ]
        }
      ]
    },
    {
      "cell_type": "markdown",
      "source": [
        "Area lateral:\n",
        "---\n",
        "<div> Modelo matemático:\n",
        "\\begin{align}\n",
        "area\\_rectangulo:\\mathbb{R}\\times \\mathbb{R}\\rightarrow \\mathbb{R}\n",
        "\\end{align}\n",
        "\\begin{align}\n",
        "(a,b)\\mapsto a\\cdot b\n",
        "\\end{align}\n",
        "\\begin{align}\n",
        "area\\_circulo:\\mathbb{R}\\rightarrow \\mathbb{R}\n",
        "\\end{align}\n",
        "\\begin{align}\n",
        "(r)\\mapsto \\pi\\cdot r^{2}\n",
        "\\end{align}\n",
        "\\begin{align}\n",
        "area\\_lateral:\\mathbb{R}\\times \\mathbb{R}\\times \\mathbb{R}\\rightarrow \\mathbb{R}\n",
        "\\end{align}\n",
        "\\begin{align}\n",
        "(a,b,r)\\mapsto area\\_rectangulo(a,b)+area\\_circulo(r) \\cdot 2\n",
        "\\end{align}"
      ],
      "metadata": {
        "id": "-E9PPQx1kSJG"
      }
    },
    {
      "cell_type": "code",
      "execution_count": null,
      "metadata": {
        "colab": {
          "base_uri": "https://localhost:8080/"
        },
        "id": "9CYKLAIqkPnz",
        "outputId": "6cf0713d-3425-4a24-b125-66efdf9507d2"
      },
      "outputs": [
        {
          "output_type": "stream",
          "name": "stdout",
          "text": [
            "altura rectangulo: 10\n",
            "base rectangulo: 10\n",
            "radio circulo: 10\n",
            "Area lateral: 728.3185307179587\n"
          ]
        }
      ],
      "source": [
        "from math import pi\n",
        "a=float(input(\"altura rectangulo: \"))\n",
        "b=float(input(\"base rectangulo: \"))\n",
        "r=float(input(\"radio circulo: \"))\n",
        "def area_rectangulo(a,b):\n",
        "  return a*b\n",
        "def area_circulo(r):\n",
        "  return pi*r**2\n",
        "def area_lateral(a,b,r):\n",
        "  return area_rectangulo(a,b) + 2*area_circulo(r)\n",
        "print(f\"Area lateral: {area_lateral(a,b,r)}\")"
      ]
    }
  ]
}