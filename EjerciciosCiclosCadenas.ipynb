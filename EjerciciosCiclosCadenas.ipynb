{
  "nbformat": 4,
  "nbformat_minor": 0,
  "metadata": {
    "colab": {
      "provenance": [],
      "collapsed_sections": [],
      "authorship_tag": "ABX9TyOgJjpZIGJ6Px0acuAPDALA",
      "include_colab_link": true
    },
    "kernelspec": {
      "name": "python3",
      "display_name": "Python 3"
    },
    "language_info": {
      "name": "python"
    }
  },
  "cells": [
    {
      "cell_type": "markdown",
      "metadata": {
        "id": "view-in-github",
        "colab_type": "text"
      },
      "source": [
        "<a href=\"https://colab.research.google.com/github/Vethariel/Soluciones_Programacion_Computadores/blob/main/EjerciciosCiclosCadenas.ipynb\" target=\"_parent\"><img src=\"https://colab.research.google.com/assets/colab-badge.svg\" alt=\"Open In Colab\"/></a>"
      ]
    },
    {
      "cell_type": "markdown",
      "source": [
        "<h2>Ciclo while"
      ],
      "metadata": {
        "id": "bi9PC-RIjBYW"
      }
    },
    {
      "cell_type": "markdown",
      "source": [
        "factorial\n",
        "https://www.youtube.com/watch?v=v59CTk3ji-s&list=PLs3IFJPw3G9KhF7BeGOItwoKKLD8e3Dwu&index=14"
      ],
      "metadata": {
        "id": "aItoGeGR7TJr"
      }
    },
    {
      "cell_type": "code",
      "source": [
        "def factorial(n):\n",
        "  if n == 0:\n",
        "    f = 1\n",
        "  elif n == 1:\n",
        "    f = 1\n",
        "  else:\n",
        "    f = n * factorial(n-1)\n",
        "  return f\n",
        "print(factorial(5))"
      ],
      "metadata": {
        "colab": {
          "base_uri": "https://localhost:8080/"
        },
        "id": "wPZwFEyz7UU5",
        "outputId": "2321f7fe-31d8-4b55-a131-55e338d0a4e9"
      },
      "execution_count": null,
      "outputs": [
        {
          "output_type": "stream",
          "name": "stdout",
          "text": [
            "120\n"
          ]
        }
      ]
    },
    {
      "cell_type": "markdown",
      "source": [
        "Desarrollar un programa que imprima el cuadrado del número que el\n",
        "usuario ingresa mientras que el número ingresado no sea negativo."
      ],
      "metadata": {
        "id": "HeUSLdTPi6Xy"
      }
    },
    {
      "cell_type": "code",
      "execution_count": null,
      "metadata": {
        "colab": {
          "base_uri": "https://localhost:8080/"
        },
        "id": "-ieuzZ_Vi0LR",
        "outputId": "49b68cf9-e0e3-49cc-9c38-65f54231a82d"
      },
      "outputs": [
        {
          "name": "stdout",
          "output_type": "stream",
          "text": [
            "Ingrese un numero: -1\n"
          ]
        }
      ],
      "source": [
        "def cuadrado_numero(n):\n",
        "  return n**2\n",
        "n=0\n",
        "while n>=0:\n",
        "  n = int(input(\"Ingrese un numero: \"))\n",
        "  cuadrado = cuadrado_numero(n)\n",
        "  if n >= 0: print(f\"El cuadrado de {n} es {cuadrado}\")"
      ]
    },
    {
      "cell_type": "markdown",
      "source": [
        "Desarrollar un programa que dado un número entero positivo n\n",
        "calcule e imprima (separados por espacios) n/2 si es par o 3n + 1 si es\n",
        "impar. El programa debe repetir el proceso con el número resultado\n",
        "de dicha operación mientras este sea diferente de 1. Por ejemplo para\n",
        "el número 3 debe imprimir 10 5 16 8 4 2 1."
      ],
      "metadata": {
        "id": "JV5NO8Jmke9_"
      }
    },
    {
      "cell_type": "code",
      "source": [
        "def par_impar(n):\n",
        "  resultado = 0\n",
        "  if n%2==0:\n",
        "    resultado = n//2\n",
        "  else: \n",
        "    resultado = 3*n + 1\n",
        "  return resultado\n",
        "\n",
        "n = int(input(\"Ingrese un numero: \"))\n",
        "\n",
        "while n > 1:\n",
        "  n = par_impar(n)\n",
        "  print(n, end=\" \")"
      ],
      "metadata": {
        "colab": {
          "base_uri": "https://localhost:8080/"
        },
        "id": "hJqUkC0Pkc1Q",
        "outputId": "de01f776-8faf-49e0-ecda-950e1a22a62c"
      },
      "execution_count": null,
      "outputs": [
        {
          "output_type": "stream",
          "name": "stdout",
          "text": [
            "Ingrese un numero: 9\n",
            "28 14 7 22 11 34 17 52 26 13 40 20 10 5 16 8 4 2 1 "
          ]
        }
      ]
    },
    {
      "cell_type": "markdown",
      "source": [
        "En 2022 el país A tendrá una población de 25 millones de habitantes\n",
        "y el país B de 18.9 millones. Las tasas de crecimiento anual de la\n",
        "población serán de 2% y 3% respectivamente. Desarrollar un\n",
        "programa que imprima el año en que la población del país B superará\n",
        "a la de A."
      ],
      "metadata": {
        "id": "ZZ6ihxBQmsxm"
      }
    },
    {
      "cell_type": "code",
      "source": [
        "A = 25000000\n",
        "B = 18900000\n",
        "anno = 2022\n",
        "while B<A:\n",
        "  A+=A*0.02\n",
        "  B+=B*0.03\n",
        "  anno+=1\n",
        "print(f\"En el anno {anno} el pais B superara a la poblacion del pais A con {round(B)} y {round(A)} habitantes respectivamente\")"
      ],
      "metadata": {
        "colab": {
          "base_uri": "https://localhost:8080/"
        },
        "id": "S_LRIdjKm6Uj",
        "outputId": "39fecb90-6738-4cf6-90e5-82e0019dbd83"
      },
      "execution_count": null,
      "outputs": [
        {
          "output_type": "stream",
          "name": "stdout",
          "text": [
            "En el anno 2051 el pais B superara a la poblacion del pais A con 44539088 y 44396117 habitantes respectivamente\n"
          ]
        }
      ]
    },
    {
      "cell_type": "markdown",
      "source": [
        "Diseñar una función que permita calcular el épsilon de la máquina. El\n",
        "épsilon de máquina es el número decimal más pequeño que sumado\n",
        "a 1 se puede representar de manera precisa en la máquina (que no es\n",
        "redondeado), es decir, retorna un valor diferente de 1, éste da una idea\n",
        "de la precisión o número de cifras reales que pueden ser almacenadas\n",
        "en la máquina. La idea es realizar un ciclo en el cual se realiza la\n",
        "operación 1 + ϵ para potencias de 2 desde ϵ = 2^0 y continuando con potencias decrecientes de 2 ( ϵ = 2^−1, ϵ = 2^−2, ϵ = 2^−3, ϵ = 2^−4, . . .)\n",
        "hasta obtener que el resultado de la suma 1 + ϵ no se altere."
      ],
      "metadata": {
        "id": "V85XOX9BoMxE"
      }
    },
    {
      "cell_type": "code",
      "source": [
        "E = 2\n",
        "suma = 1+E\n",
        "n=0\n",
        "while suma>1:\n",
        "  E = 2**n\n",
        "  suma = E+1\n",
        "  n-=1\n",
        "print(E)"
      ],
      "metadata": {
        "colab": {
          "base_uri": "https://localhost:8080/"
        },
        "id": "ZtYE_VGWpBN4",
        "outputId": "9279aa09-448d-46bb-a2fa-89c10872063b"
      },
      "execution_count": null,
      "outputs": [
        {
          "output_type": "stream",
          "name": "stdout",
          "text": [
            "1.1102230246251565e-16\n"
          ]
        }
      ]
    },
    {
      "cell_type": "markdown",
      "source": [
        "<h2>Ciclo for"
      ],
      "metadata": {
        "id": "GVzbBqQGsD-I"
      }
    },
    {
      "cell_type": "markdown",
      "source": [
        "Imprimir un listado con los números del 1 al 100 cada uno con su\n",
        "respectivo cuadrado."
      ],
      "metadata": {
        "id": "oZM_A450sJ61"
      }
    },
    {
      "cell_type": "code",
      "source": [
        "for i in range(1, 101):\n",
        "  print(i, i**2, sep=\" - \", end=\", \")"
      ],
      "metadata": {
        "colab": {
          "base_uri": "https://localhost:8080/"
        },
        "id": "WlZbLV_2sNH-",
        "outputId": "ae21c288-971c-47e1-e661-27bb6f3bdca0"
      },
      "execution_count": null,
      "outputs": [
        {
          "output_type": "stream",
          "name": "stdout",
          "text": [
            "1 - 1, 2 - 4, 3 - 9, 4 - 16, 5 - 25, 6 - 36, 7 - 49, 8 - 64, 9 - 81, 10 - 100, 11 - 121, 12 - 144, 13 - 169, 14 - 196, 15 - 225, 16 - 256, 17 - 289, 18 - 324, 19 - 361, 20 - 400, 21 - 441, 22 - 484, 23 - 529, 24 - 576, 25 - 625, 26 - 676, 27 - 729, 28 - 784, 29 - 841, 30 - 900, 31 - 961, 32 - 1024, 33 - 1089, 34 - 1156, 35 - 1225, 36 - 1296, 37 - 1369, 38 - 1444, 39 - 1521, 40 - 1600, 41 - 1681, 42 - 1764, 43 - 1849, 44 - 1936, 45 - 2025, 46 - 2116, 47 - 2209, 48 - 2304, 49 - 2401, 50 - 2500, 51 - 2601, 52 - 2704, 53 - 2809, 54 - 2916, 55 - 3025, 56 - 3136, 57 - 3249, 58 - 3364, 59 - 3481, 60 - 3600, 61 - 3721, 62 - 3844, 63 - 3969, 64 - 4096, 65 - 4225, 66 - 4356, 67 - 4489, 68 - 4624, 69 - 4761, 70 - 4900, 71 - 5041, 72 - 5184, 73 - 5329, 74 - 5476, 75 - 5625, 76 - 5776, 77 - 5929, 78 - 6084, 79 - 6241, 80 - 6400, 81 - 6561, 82 - 6724, 83 - 6889, 84 - 7056, 85 - 7225, 86 - 7396, 87 - 7569, 88 - 7744, 89 - 7921, 90 - 8100, 91 - 8281, 92 - 8464, 93 - 8649, 94 - 8836, 95 - 9025, 96 - 9216, 97 - 9409, 98 - 9604, 99 - 9801, 100 - 10000, "
          ]
        }
      ]
    },
    {
      "cell_type": "markdown",
      "source": [
        "Imprimir un listado con los números impares desde 1 hasta 999 y\n",
        "seguidamente otro listado con los números pares desde 2 hasta 1000."
      ],
      "metadata": {
        "id": "Ea29__dJsiGj"
      }
    },
    {
      "cell_type": "code",
      "source": [
        "for i in range(1,1001):\n",
        "  if i%2==0:  print(i, end = \" \")\n",
        "print(\"\")\n",
        "for i in range(1,1001):\n",
        "  if i%2!=0:  print(i, end = \" \")"
      ],
      "metadata": {
        "colab": {
          "base_uri": "https://localhost:8080/"
        },
        "id": "fxvZxzH-snkl",
        "outputId": "e30d5b17-facb-40c5-9b7d-7d5582544be7"
      },
      "execution_count": null,
      "outputs": [
        {
          "output_type": "stream",
          "name": "stdout",
          "text": [
            "2 4 6 8 10 12 14 16 18 20 22 24 26 28 30 32 34 36 38 40 42 44 46 48 50 52 54 56 58 60 62 64 66 68 70 72 74 76 78 80 82 84 86 88 90 92 94 96 98 100 102 104 106 108 110 112 114 116 118 120 122 124 126 128 130 132 134 136 138 140 142 144 146 148 150 152 154 156 158 160 162 164 166 168 170 172 174 176 178 180 182 184 186 188 190 192 194 196 198 200 202 204 206 208 210 212 214 216 218 220 222 224 226 228 230 232 234 236 238 240 242 244 246 248 250 252 254 256 258 260 262 264 266 268 270 272 274 276 278 280 282 284 286 288 290 292 294 296 298 300 302 304 306 308 310 312 314 316 318 320 322 324 326 328 330 332 334 336 338 340 342 344 346 348 350 352 354 356 358 360 362 364 366 368 370 372 374 376 378 380 382 384 386 388 390 392 394 396 398 400 402 404 406 408 410 412 414 416 418 420 422 424 426 428 430 432 434 436 438 440 442 444 446 448 450 452 454 456 458 460 462 464 466 468 470 472 474 476 478 480 482 484 486 488 490 492 494 496 498 500 502 504 506 508 510 512 514 516 518 520 522 524 526 528 530 532 534 536 538 540 542 544 546 548 550 552 554 556 558 560 562 564 566 568 570 572 574 576 578 580 582 584 586 588 590 592 594 596 598 600 602 604 606 608 610 612 614 616 618 620 622 624 626 628 630 632 634 636 638 640 642 644 646 648 650 652 654 656 658 660 662 664 666 668 670 672 674 676 678 680 682 684 686 688 690 692 694 696 698 700 702 704 706 708 710 712 714 716 718 720 722 724 726 728 730 732 734 736 738 740 742 744 746 748 750 752 754 756 758 760 762 764 766 768 770 772 774 776 778 780 782 784 786 788 790 792 794 796 798 800 802 804 806 808 810 812 814 816 818 820 822 824 826 828 830 832 834 836 838 840 842 844 846 848 850 852 854 856 858 860 862 864 866 868 870 872 874 876 878 880 882 884 886 888 890 892 894 896 898 900 902 904 906 908 910 912 914 916 918 920 922 924 926 928 930 932 934 936 938 940 942 944 946 948 950 952 954 956 958 960 962 964 966 968 970 972 974 976 978 980 982 984 986 988 990 992 994 996 998 1000 \n",
            "1 3 5 7 9 11 13 15 17 19 21 23 25 27 29 31 33 35 37 39 41 43 45 47 49 51 53 55 57 59 61 63 65 67 69 71 73 75 77 79 81 83 85 87 89 91 93 95 97 99 101 103 105 107 109 111 113 115 117 119 121 123 125 127 129 131 133 135 137 139 141 143 145 147 149 151 153 155 157 159 161 163 165 167 169 171 173 175 177 179 181 183 185 187 189 191 193 195 197 199 201 203 205 207 209 211 213 215 217 219 221 223 225 227 229 231 233 235 237 239 241 243 245 247 249 251 253 255 257 259 261 263 265 267 269 271 273 275 277 279 281 283 285 287 289 291 293 295 297 299 301 303 305 307 309 311 313 315 317 319 321 323 325 327 329 331 333 335 337 339 341 343 345 347 349 351 353 355 357 359 361 363 365 367 369 371 373 375 377 379 381 383 385 387 389 391 393 395 397 399 401 403 405 407 409 411 413 415 417 419 421 423 425 427 429 431 433 435 437 439 441 443 445 447 449 451 453 455 457 459 461 463 465 467 469 471 473 475 477 479 481 483 485 487 489 491 493 495 497 499 501 503 505 507 509 511 513 515 517 519 521 523 525 527 529 531 533 535 537 539 541 543 545 547 549 551 553 555 557 559 561 563 565 567 569 571 573 575 577 579 581 583 585 587 589 591 593 595 597 599 601 603 605 607 609 611 613 615 617 619 621 623 625 627 629 631 633 635 637 639 641 643 645 647 649 651 653 655 657 659 661 663 665 667 669 671 673 675 677 679 681 683 685 687 689 691 693 695 697 699 701 703 705 707 709 711 713 715 717 719 721 723 725 727 729 731 733 735 737 739 741 743 745 747 749 751 753 755 757 759 761 763 765 767 769 771 773 775 777 779 781 783 785 787 789 791 793 795 797 799 801 803 805 807 809 811 813 815 817 819 821 823 825 827 829 831 833 835 837 839 841 843 845 847 849 851 853 855 857 859 861 863 865 867 869 871 873 875 877 879 881 883 885 887 889 891 893 895 897 899 901 903 905 907 909 911 913 915 917 919 921 923 925 927 929 931 933 935 937 939 941 943 945 947 949 951 953 955 957 959 961 963 965 967 969 971 973 975 977 979 981 983 985 987 989 991 993 995 997 999 "
          ]
        }
      ]
    },
    {
      "cell_type": "markdown",
      "source": [
        "Imprimir los números pares en forma descendente hasta 2 que son\n",
        "menores o iguales a un número natural n ≥ 2 dado."
      ],
      "metadata": {
        "id": "qzl4g9Mlucvd"
      }
    },
    {
      "cell_type": "code",
      "source": [
        "n = int(input(\"Ingrese un numero: \"))\n",
        "for i in range(n,1,-1):\n",
        "  if i%2==0:\n",
        "    print(i, end=\" \")\n",
        "print(\"\")\n",
        "[i for i in range(n,1,-1) if i%2==0]"
      ],
      "metadata": {
        "colab": {
          "base_uri": "https://localhost:8080/"
        },
        "id": "3pCScQYluBVW",
        "outputId": "fded0294-dde0-4e2b-c603-37912f112341"
      },
      "execution_count": null,
      "outputs": [
        {
          "output_type": "stream",
          "name": "stdout",
          "text": [
            "Ingrese un numero: 10\n",
            "10 8 6 4 2 \n"
          ]
        },
        {
          "output_type": "execute_result",
          "data": {
            "text/plain": [
              "[10, 8, 6, 4, 2]"
            ]
          },
          "metadata": {},
          "execution_count": 30
        }
      ]
    },
    {
      "cell_type": "markdown",
      "source": [
        "Imprimir los números de 1 hasta un número natural n dado, cada uno\n",
        "con su respectivo factorial."
      ],
      "metadata": {
        "id": "Bygs4oglvXoc"
      }
    },
    {
      "cell_type": "code",
      "source": [
        "n = int(input(\"Ingrese un numero: \"))\n",
        "f = 1\n",
        "for i in range(1,n+1):\n",
        "  f*=i\n",
        "  print(i, f, sep=\" - \", end =\", \")"
      ],
      "metadata": {
        "colab": {
          "base_uri": "https://localhost:8080/"
        },
        "id": "YibyKsDfvOS4",
        "outputId": "1acca138-1306-4b91-a6cb-489f86084db2"
      },
      "execution_count": null,
      "outputs": [
        {
          "output_type": "stream",
          "name": "stdout",
          "text": [
            "Ingrese un numero: 10\n",
            "1 - 1, 2 - 2, 3 - 6, 4 - 24, 5 - 120, 6 - 720, 7 - 5040, 8 - 40320, 9 - 362880, 10 - 3628800, "
          ]
        }
      ]
    },
    {
      "cell_type": "markdown",
      "source": [
        "Calcular el valor de 2 elevado a la potencia n."
      ],
      "metadata": {
        "id": "RtPyYDXIvw7z"
      }
    },
    {
      "cell_type": "code",
      "source": [
        "n = int(input(\"Ingrese un numero: \"))\n",
        "e = 1\n",
        "for i in range(n):\n",
        "  e*=2\n",
        "print(e)"
      ],
      "metadata": {
        "colab": {
          "base_uri": "https://localhost:8080/"
        },
        "id": "RCbXD2nMvwcr",
        "outputId": "86a7914d-0bdf-45ec-83ff-830b567e7bee"
      },
      "execution_count": null,
      "outputs": [
        {
          "output_type": "stream",
          "name": "stdout",
          "text": [
            "Ingrese un numero: 3\n",
            "8\n"
          ]
        }
      ]
    },
    {
      "cell_type": "markdown",
      "source": [
        "Leer un número natural n, leer otro dato de tipo real x y calcular x^n."
      ],
      "metadata": {
        "id": "3hoMh236wi5P"
      }
    },
    {
      "cell_type": "code",
      "source": [
        "n = int(input(\"Ingrese un numero: \"))\n",
        "x = float(input(\"Ingrese otro numero: \"))\n",
        "e = 1\n",
        "for i in range(n):\n",
        "  e=e*x\n",
        "print(e)"
      ],
      "metadata": {
        "colab": {
          "base_uri": "https://localhost:8080/"
        },
        "id": "hMlyJky5wjNB",
        "outputId": "6bb3ae55-d22c-48db-d4fc-649d6a2eb854"
      },
      "execution_count": null,
      "outputs": [
        {
          "output_type": "stream",
          "name": "stdout",
          "text": [
            "Ingrese un numero: 3\n",
            "Ingrese otro numero: 3\n",
            "3.0\n",
            "9.0\n",
            "27.0\n",
            "27.0\n"
          ]
        }
      ]
    },
    {
      "cell_type": "markdown",
      "source": [
        "Diseñe un programa que muestre las tablas de multiplicar del 1 al 9."
      ],
      "metadata": {
        "id": "RcjkHAF0wyh2"
      }
    },
    {
      "cell_type": "code",
      "source": [
        "for i in range(1,10):\n",
        "  print(f\"Tabla de multiplicar del {i}\\n\")\n",
        "  for j in range(1, 10):\n",
        "    print(f\"{i} x {j} = {i*j}\")\n",
        "  print(\"\")"
      ],
      "metadata": {
        "id": "ZMh58o7PwyAf"
      },
      "execution_count": null,
      "outputs": []
    },
    {
      "cell_type": "markdown",
      "source": [
        "Diseñar una función que permita calcular una aproximación de la función exponencial alrededor de 0 para cualquier valor x ∈ R, utilizando los primeros n términos de la serie de Maclaurin\n",
        "\n",
        "\\begin{gather}\n",
        "exp(x,n)\\approx \\sum_{i=0}^{n}\\frac{x^{^{i}}}{i!}\n",
        "\\end{gather}"
      ],
      "metadata": {
        "id": "ihV1rw8oxiX5"
      }
    },
    {
      "cell_type": "code",
      "source": [
        "def serie_maclaurin(n, x):\n",
        "  serie = 0\n",
        "  for i in range(n+1):\n",
        "    serie+=x**i/factorial(i)\n",
        "    print(serie)\n",
        "  return serie\n",
        "n = int(input(\"Ingrese un numero: \"))\n",
        "x = float(input(\"Ingrese otro numero: \"))\n",
        "serie_maclaurin(n, x)"
      ],
      "metadata": {
        "colab": {
          "base_uri": "https://localhost:8080/"
        },
        "id": "qBw_jd0Dxo59",
        "outputId": "69154631-7a1f-451d-c9e2-028bb0480e3c"
      },
      "execution_count": null,
      "outputs": [
        {
          "output_type": "stream",
          "name": "stdout",
          "text": [
            "Ingrese un numero: 25\n",
            "Ingrese otro numero: 1\n",
            "1.0\n",
            "2.0\n",
            "2.5\n",
            "2.6666666666666665\n",
            "2.708333333333333\n",
            "2.7166666666666663\n",
            "2.7180555555555554\n",
            "2.7182539682539684\n",
            "2.71827876984127\n",
            "2.7182815255731922\n",
            "2.7182818011463845\n",
            "2.718281826198493\n",
            "2.7182818282861687\n",
            "2.7182818284467594\n",
            "2.71828182845823\n",
            "2.718281828458995\n",
            "2.718281828459043\n",
            "2.7182818284590455\n",
            "2.7182818284590455\n",
            "2.7182818284590455\n",
            "2.7182818284590455\n",
            "2.7182818284590455\n",
            "2.7182818284590455\n",
            "2.7182818284590455\n",
            "2.7182818284590455\n",
            "2.7182818284590455\n"
          ]
        },
        {
          "output_type": "execute_result",
          "data": {
            "text/plain": [
              "2.7182818284590455"
            ]
          },
          "metadata": {},
          "execution_count": 17
        }
      ]
    },
    {
      "cell_type": "markdown",
      "source": [
        "Diseñar una función que permita calcular una aproximación de la\n",
        "función seno alrededor de 0 para cualquier valor x ∈ R (x dado en\n",
        "radianes), utilizando los primeros n términos de la serie de Maclaurin\n",
        "\n",
        "\\begin{gather}\n",
        "sin(x,n)\\approx \\sum_{i=0}^{n}\\frac{(-1)^{^{i}}x^{2i+1}}{(2i+1)!}\n",
        "\\end{gather}"
      ],
      "metadata": {
        "id": "kStFlJzy0pd2"
      }
    },
    {
      "cell_type": "code",
      "source": [
        "from math import pi\n",
        "def serie_maclaurin(n, x):\n",
        "  serie = 0\n",
        "  f=1\n",
        "  for i in range(n+1):\n",
        "    numerador = (-1)**i * x**(2*i+1)\n",
        "    denominador = factorial(2*i+1)\n",
        "    serie+=numerador/denominador\n",
        "  return serie\n",
        "n = int(input(\"Ingrese un numero: \"))\n",
        "x = float(input(\"Ingrese otro numero: \"))*pi\n",
        "serie_maclaurin(n, x)"
      ],
      "metadata": {
        "colab": {
          "base_uri": "https://localhost:8080/"
        },
        "id": "5WwyS83N0py_",
        "outputId": "7e901519-256d-4d5a-f8cf-f18f8fbf5e99"
      },
      "execution_count": null,
      "outputs": [
        {
          "name": "stdout",
          "output_type": "stream",
          "text": [
            "Ingrese un numero: 20\n",
            "Ingrese otro numero: 0.25\n"
          ]
        },
        {
          "output_type": "execute_result",
          "data": {
            "text/plain": [
              "0.7071067811865475"
            ]
          },
          "metadata": {},
          "execution_count": 14
        }
      ]
    },
    {
      "cell_type": "markdown",
      "source": [
        "Diseñar una función que permita calcular una aproximación de la\n",
        "función coseno alrededor de 0 para cualquier valor x ∈ R (x dado en\n",
        "radianes), utilizando los primeros n términos de la serie de Maclaurin\n",
        "\\begin{gather}\n",
        "cos(x,n)\\approx \\sum_{i=0}^{n}\\frac{(-1)^{^{i}}x^{2i}}{(2i)!}\n",
        "\\end{gather}"
      ],
      "metadata": {
        "id": "S-ddak8P3R8K"
      }
    },
    {
      "cell_type": "code",
      "source": [
        "from math import pi\n",
        "def serie_maclaurin(n, x):\n",
        "  serie = 0\n",
        "  f=1\n",
        "  for i in range(n+1):\n",
        "    numerador = ((-1)**i) * (x**(2*i))\n",
        "    denominador = factorial(2*i)\n",
        "    serie+=numerador/denominador\n",
        "  return serie\n",
        "n = int(input(\"Ingrese un numero: \"))\n",
        "x = float(input(\"Ingrese otro numero: \"))*pi\n",
        "serie_maclaurin(n, x)"
      ],
      "metadata": {
        "colab": {
          "base_uri": "https://localhost:8080/"
        },
        "id": "zmmNVpMz3hUZ",
        "outputId": "207231ca-db23-4321-9cb0-a664042eb19a"
      },
      "execution_count": null,
      "outputs": [
        {
          "name": "stdout",
          "output_type": "stream",
          "text": [
            "Ingrese un numero: 20\n",
            "Ingrese otro numero: 1\n"
          ]
        },
        {
          "output_type": "execute_result",
          "data": {
            "text/plain": [
              "-1.0000000000000002"
            ]
          },
          "metadata": {},
          "execution_count": 5
        }
      ]
    },
    {
      "cell_type": "markdown",
      "source": [
        "Diseñar una función que permita calcular una aproximación de la\n",
        "función logaritmo natural alrededor de 0 para cualquier valor x ∈ R\n",
        "+, utilizando los primeros n términos de la serie de Maclaurin\n",
        "\n",
        "\\begin{gather}\n",
        "ln(x,n)\\approx \\sum_{i=0}^{n}\\frac{1}{2i+1}\\left (\\frac{x^{2}-1}{x^{2}+1}  \\right )^{2i+1}\n",
        "\\end{gather}"
      ],
      "metadata": {
        "id": "2XVYji1y38vu"
      }
    },
    {
      "cell_type": "code",
      "source": [
        "def serie_maclaurin(n, x):\n",
        "  serie = 0\n",
        "  f=1\n",
        "  for i in range(n+1):\n",
        "    f1 = 2/(2*i+1)\n",
        "    f2 = ((x**2-1)/(x**2+1))**(2*i+1)\n",
        "    serie+=f1*f2\n",
        "  return serie\n",
        "n = int(input(\"Ingrese un numero: \"))\n",
        "x = float(input(\"Ingrese otro numero: \"))\n",
        "serie_maclaurin(n, x)"
      ],
      "metadata": {
        "colab": {
          "base_uri": "https://localhost:8080/"
        },
        "id": "TTxf09CK8wkF",
        "outputId": "11d6e25e-ae54-42aa-9d19-1401b0dc3b4c"
      },
      "execution_count": null,
      "outputs": [
        {
          "name": "stdout",
          "output_type": "stream",
          "text": [
            "Ingrese un numero: 200\n",
            "Ingrese otro numero: 2\n"
          ]
        },
        {
          "output_type": "execute_result",
          "data": {
            "text/plain": [
              "1.3862943611198912"
            ]
          },
          "metadata": {},
          "execution_count": 57
        }
      ]
    },
    {
      "cell_type": "markdown",
      "source": [
        "Diseñar una función que permita calcular una aproximación de la\n",
        "función arco tangente para cualquier valor x ∈ \\[−1, 1], utilizando los\n",
        "primeros n términos de la serie de Maclaurin (al evaluar esta función\n",
        "el resultado que se obtiene está expresado en radianes)\n",
        "\\begin{gather}\n",
        "arctan(x,n)\\approx \\sum_{i=0}^{n}\\frac{(-1)^{^{i}}x^{2i+1}}{(2i+1)}\n",
        "\\end{gather}"
      ],
      "metadata": {
        "id": "LO9Q22Is9R1k"
      }
    },
    {
      "cell_type": "code",
      "source": [
        "def serie_maclaurin(n, x):\n",
        "  serie = 0\n",
        "  f=1\n",
        "  for i in range(n+1):\n",
        "    numerador = (-1)**i * x**(2*i+1)\n",
        "    denominador = 2*i+1\n",
        "    serie+=numerador/denominador\n",
        "  return serie\n",
        "n = int(input(\"Ingrese un numero: \"))\n",
        "x = float(input(\"Ingrese otro numero: \"))\n",
        "serie_maclaurin(n, x)"
      ],
      "metadata": {
        "colab": {
          "base_uri": "https://localhost:8080/"
        },
        "id": "cTM41iUS991n",
        "outputId": "d284dd8a-5870-4237-f783-a8f8609187d0"
      },
      "execution_count": null,
      "outputs": [
        {
          "name": "stdout",
          "output_type": "stream",
          "text": [
            "Ingrese un numero: 1\n",
            "Ingrese otro numero: 1\n"
          ]
        },
        {
          "output_type": "execute_result",
          "data": {
            "text/plain": [
              "0.6666666666666667"
            ]
          },
          "metadata": {},
          "execution_count": 58
        }
      ]
    },
    {
      "cell_type": "markdown",
      "source": [
        "<h2>Cadenas"
      ],
      "metadata": {
        "id": "4GC4oT6I-gzq"
      }
    },
    {
      "cell_type": "markdown",
      "source": [
        "Desarrollar un algoritmo que reciba dos cadenas de caracteres y\n",
        "determine si la primera está incluida en la segunda. Se dice que una\n",
        "cadena está incluida en otra, si todos los caracteres (con repeticiones)\n",
        "de la cadena está en la segunda cadena sin tener en cuenta el orden\n",
        "de los caracteres."
      ],
      "metadata": {
        "id": "qUN0MJ_R-jJr"
      }
    },
    {
      "cell_type": "code",
      "source": [
        "def cadena_incluida(s1, s2):\n",
        "  l2 = list(s2)\n",
        "  extra = []\n",
        "  for i in s1:\n",
        "    if i in l2:\n",
        "      l2.remove(i)\n",
        "    else:\n",
        "      extra.append(i)\n",
        "  print(f\"La cadena \\\"{s1}\\\"\", \"si\" if not extra else \"no\", f\"esta incluida en la cadena \\\"{s2}\\\"\", end=\" \")\n",
        "  for i in set(extra):\n",
        "    print(f', hace falta {extra.count(i)} \"{i}\"', end = \" \")\n",
        "  print(\".\")\n",
        "s1= \"prosa\"\n",
        "s2= \"la de idiomas\"\n",
        "cadena_incluida(s1, s2)\n",
        "s1= \"pepito\"\n",
        "s2= \"un pedazo de tierra\"\n",
        "cadena_incluida(s1, s2)\n",
        "s1= \"pepito\"\n",
        "s2= \"tijeras o papel\"\n",
        "cadena_incluida(s1, s2)"
      ],
      "metadata": {
        "colab": {
          "base_uri": "https://localhost:8080/"
        },
        "id": "RbE7h823-sdH",
        "outputId": "fea2c612-6b75-4c43-c8e2-d75e0c8b56ea"
      },
      "execution_count": null,
      "outputs": [
        {
          "output_type": "stream",
          "name": "stdout",
          "text": [
            "La cadena \"prosa\" no esta incluida en la cadena \"la de idiomas\" , hace falta 1 \"p\" , hace falta 1 \"r\" .\n",
            "La cadena \"pepito\" no esta incluida en la cadena \"un pedazo de tierra\" , hace falta 1 \"p\" .\n",
            "La cadena \"pepito\" si esta incluida en la cadena \"tijeras o papel\" .\n"
          ]
        }
      ]
    },
    {
      "cell_type": "markdown",
      "source": [
        "Desarrollar un algoritmo que invierta una cadena de caracteres."
      ],
      "metadata": {
        "id": "Z4LBO5J7-mHt"
      }
    },
    {
      "cell_type": "code",
      "source": [
        "def invertir_cadena(s):\n",
        "  return s[::-1]\n",
        "s = \"Hola mundo\"\n",
        "invertir_cadena(s)"
      ],
      "metadata": {
        "colab": {
          "base_uri": "https://localhost:8080/",
          "height": 36
        },
        "id": "srkQnHqH-svx",
        "outputId": "f70273ca-5cd3-4a2d-857b-caed7cea90c0"
      },
      "execution_count": null,
      "outputs": [
        {
          "output_type": "execute_result",
          "data": {
            "text/plain": [
              "'odnum aloH'"
            ],
            "application/vnd.google.colaboratory.intrinsic+json": {
              "type": "string"
            }
          },
          "metadata": {},
          "execution_count": 64
        }
      ]
    },
    {
      "cell_type": "code",
      "source": [
        "def invertir_cadena2(s):\n",
        "  s2 = \"\"\n",
        "  for c in s:\n",
        "    s2 = c + s2\n",
        "  return s2\n",
        "s = \"Hola mundo\"\n",
        "invertir_cadena2(s)"
      ],
      "metadata": {
        "colab": {
          "base_uri": "https://localhost:8080/",
          "height": 36
        },
        "id": "S7GPgZzNFIpT",
        "outputId": "b7032320-055a-41b4-d664-203f99e7311f"
      },
      "execution_count": null,
      "outputs": [
        {
          "output_type": "execute_result",
          "data": {
            "text/plain": [
              "'odnum aloH'"
            ],
            "application/vnd.google.colaboratory.intrinsic+json": {
              "type": "string"
            }
          },
          "metadata": {},
          "execution_count": 65
        }
      ]
    },
    {
      "cell_type": "markdown",
      "source": [
        "Desarrollar un algoritmo que determine si una cadena de caracteres es\n",
        "palíndrome. Una cadena se dice palíndrome si al invertirla es igual a\n",
        "ella misma."
      ],
      "metadata": {
        "id": "8DDw4dJc-noV"
      }
    },
    {
      "cell_type": "code",
      "source": [
        "def cadena_palindrome(s):\n",
        "  return s == invertir_cadena(s)\n",
        "s = \"ala\"\n",
        "print(f'\"{s}\"', \"\" if cadena_palindrome(s) else \"NO\",\"es palindrome\")\n",
        "s = \"amor a roma\"\n",
        "print(f'\"{s}\"', \"\" if cadena_palindrome(s) else \"NO\",\"es palindrome\")\n",
        "s = \"anita atina\"\n",
        "print(f'\"{s}\"', \"\" if cadena_palindrome(s) else \"NO\",\"es palindrome\")\n",
        "s = \"al sur de Colombia\"\n",
        "print(f'\"{s}\"', \"\" if cadena_palindrome(s) else \"NO\",\"es palindrome\")\n",
        "s = \"anula las alas a la luna\"\n",
        "print(f'\"{s}\"', \"\" if cadena_palindrome(s) else \"NO\",\"es palindrome\")\n",
        "s = \"la tele letal\"\n",
        "print(f'\"{s}\"', \"\" if cadena_palindrome(s) else \"NO\",\"es palindrome\")"
      ],
      "metadata": {
        "colab": {
          "base_uri": "https://localhost:8080/"
        },
        "id": "r_zVpNYv-tEh",
        "outputId": "2e285b8a-1170-43f3-8d0b-0fdf5c2fd5e2"
      },
      "execution_count": null,
      "outputs": [
        {
          "output_type": "stream",
          "name": "stdout",
          "text": [
            "\"ala\"  es palindrome\n",
            "\"amor a roma\"  es palindrome\n",
            "\"anita atina\"  es palindrome\n",
            "\"al sur de Colombia\" NO es palindrome\n",
            "\"anula las alas a la luna\" NO es palindrome\n",
            "\"la tele letal\" NO es palindrome\n"
          ]
        }
      ]
    },
    {
      "cell_type": "markdown",
      "source": [
        "Desarrollar un algoritmo que determina si una cadena de caracteres es\n",
        "frase palíndrome, esto es, si es palíndrome al eliminarle espacios,\n",
        "tíldes, signos de puntuación y al considerar mayúsculas = minúsculas."
      ],
      "metadata": {
        "id": "qtiw20ko-o8Y"
      }
    },
    {
      "cell_type": "code",
      "source": [
        "def frase_palindrome(s):\n",
        "  s = s.lower()\n",
        "  s = s.replace(\"á\",\"a\")\n",
        "  s = s.replace(\"é\",\"e\")\n",
        "  s = s.replace(\"í\",\"i\")\n",
        "  s = s.replace(\"ó\",\"o\")\n",
        "  s = s.replace(\"ú\",\"u\")\n",
        "  s = s.replace(\" \",\"\")\n",
        "  s = s.replace(\".\",\"\")\n",
        "  s = s.replace(\",\",\"\")\n",
        "  print(s)\n",
        "  return s == invertir_cadena(s)\n",
        "\n",
        "s = \"Anula las alas a la luna\"\n",
        "print(f'\"{s}\"', \"\" if frase_palindrome(s) else \"NO\",\"es frase palindrome\")\n",
        "s = \"Dábale arroz a la zorra el abad\"\n",
        "print(f'\"{s}\"', \"\" if frase_palindrome(s) else \"NO\",\"es frase palindrome\")\n",
        "s = \"la tele letal\"\n",
        "print(f'\"{s}\"', \"\" if frase_palindrome(s) else \"NO\",\"es frase palindrome\")\n",
        "s = \"arriba la birra\"\n",
        "print(f'\"{s}\"', \"\" if frase_palindrome(s) else \"NO\",\"es frase palindrome\")\n",
        "s = \"Isaac no ronca así\"\n",
        "print(f'\"{s}\"', \"\" if frase_palindrome(s) else \"NO\",\"es frase palindrome\")\n",
        "s = \"sometamos o matemos\"\n",
        "print(f'\"{s}\"', \"\" if frase_palindrome(s) else \"NO\",\"es frase palindrome\")\n",
        "s = \"Anita, la latina\"\n",
        "print(f'\"{s}\"', \"\" if frase_palindrome(s) else \"NO\",\"es frase palindrome\")"
      ],
      "metadata": {
        "colab": {
          "base_uri": "https://localhost:8080/"
        },
        "id": "qbhkI_c7-tbp",
        "outputId": "ac613ec6-1a30-4d94-f53a-3b6776f22dd3"
      },
      "execution_count": null,
      "outputs": [
        {
          "output_type": "stream",
          "name": "stdout",
          "text": [
            "anulalasalasalaluna\n",
            "\"Anula las alas a la luna\"  es frase palindrome\n",
            "dabalearrozalazorraelabad\n",
            "\"Dábale arroz a la zorra el abad\"  es frase palindrome\n",
            "lateleletal\n",
            "\"la tele letal\"  es frase palindrome\n",
            "arribalabirra\n",
            "\"arriba la birra\"  es frase palindrome\n",
            "isaacnoroncaasi\n",
            "\"Isaac no ronca así\"  es frase palindrome\n",
            "sometamosomatemos\n",
            "\"sometamos o matemos\"  es frase palindrome\n",
            "anitalalatina\n",
            "\"Anita, la latina\"  es frase palindrome\n"
          ]
        }
      ]
    },
    {
      "cell_type": "code",
      "source": [
        "memo={}\n",
        "def fibo(n):\n",
        "    if n == 1:\n",
        "        return 1\n",
        "    elif n == 0:\n",
        "        return 0\n",
        "    if n not in memo:\n",
        "        memo[n] = fibo(n-2) + fibo(n-1)\n",
        "    return memo[n]\n",
        "fibo(1000)"
      ],
      "metadata": {
        "colab": {
          "base_uri": "https://localhost:8080/"
        },
        "id": "WqrIkf8id6UY",
        "outputId": "4da01d6f-1b83-4be7-b0ca-9938cdf9d8d7"
      },
      "execution_count": null,
      "outputs": [
        {
          "output_type": "execute_result",
          "data": {
            "text/plain": [
              "43466557686937456435688527675040625802564660517371780402481729089536555417949051890403879840079255169295922593080322634775209689623239873322471161642996440906533187938298969649928516003704476137795166849228875"
            ]
          },
          "metadata": {},
          "execution_count": 23
        }
      ]
    },
    {
      "cell_type": "code",
      "source": [
        "def fibo(n):\n",
        "    if n == 1:\n",
        "        return 1\n",
        "    elif n == 0:\n",
        "        return 0\n",
        "    return fibo(n-2) + fibo(n-1)\n",
        "fibo(10)"
      ],
      "metadata": {
        "colab": {
          "base_uri": "https://localhost:8080/"
        },
        "id": "zX5lYuIYgGqH",
        "outputId": "a0527647-7307-44bd-8c34-775cf5e3649c"
      },
      "execution_count": null,
      "outputs": [
        {
          "output_type": "execute_result",
          "data": {
            "text/plain": [
              "55"
            ]
          },
          "metadata": {},
          "execution_count": 2
        }
      ]
    }
  ]
}